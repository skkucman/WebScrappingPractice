{
 "cells": [
  {
   "cell_type": "markdown",
   "metadata": {},
   "source": [
    "# Selenium"
   ]
  },
  {
   "cell_type": "code",
   "execution_count": 2,
   "metadata": {},
   "outputs": [],
   "source": [
    "#import selenium\n",
    "from selenium import webdriver"
   ]
  },
  {
   "cell_type": "code",
   "execution_count": 15,
   "metadata": {},
   "outputs": [],
   "source": [
    "ch_driver = webdriver.Chrome('C:\\\\Python37\\\\chromedriver.exe')"
   ]
  },
  {
   "cell_type": "code",
   "execution_count": 16,
   "metadata": {},
   "outputs": [],
   "source": [
    "ch_driver.get('https://www.fastcampus.co.kr')\n",
    "ch_driver.get('http://www.naver.com')\n",
    "ch_driver.get('http://stackoverflow.com')\n",
    "ch_driver.get('http://www.python.org')\n",
    "ch_driver.get('http://www.github.com/skkucman')"
   ]
  },
  {
   "cell_type": "code",
   "execution_count": 18,
   "metadata": {},
   "outputs": [],
   "source": [
    "ch_driver.get('https://nid.naver.com/nidlogin.login')\n"
   ]
  },
  {
   "cell_type": "code",
   "execution_count": 24,
   "metadata": {},
   "outputs": [],
   "source": [
    "user_id = \"skkucman\"\n",
    "user_pw = \"Naver@crusade0\""
   ]
  },
  {
   "cell_type": "code",
   "execution_count": 21,
   "metadata": {},
   "outputs": [],
   "source": [
    "id_input = ch_driver.find_element_by_id(\"id\")\n",
    "id_input.send_keys(\"skkucman\")"
   ]
  },
  {
   "cell_type": "code",
   "execution_count": 38,
   "metadata": {},
   "outputs": [],
   "source": [
    "pw_input = ch_driver.find_element_by_id(\"pw\")\n",
    "pw_input.send_keys(user_pw)"
   ]
  },
  {
   "cell_type": "code",
   "execution_count": 39,
   "metadata": {},
   "outputs": [],
   "source": [
    "login_btn = ch_driver.find_element_by_class_name(\"btn_global\")\n",
    "login_btn.click()"
   ]
  },
  {
   "cell_type": "code",
   "execution_count": 41,
   "metadata": {},
   "outputs": [],
   "source": [
    "ch_driver.get(\"https://cafe.naver.com/joonggonara\")"
   ]
  },
  {
   "cell_type": "code",
   "execution_count": 44,
   "metadata": {},
   "outputs": [],
   "source": [
    "query = \"맥북프로\"\n",
    "\n",
    "query_input = ch_driver.find_element_by_id(\"topLayerQueryInput\")\n",
    "\n",
    "query_input.send_keys(query)\n",
    "\n"
   ]
  },
  {
   "cell_type": "code",
   "execution_count": 45,
   "metadata": {},
   "outputs": [],
   "source": [
    "ch_driver.execute_script(\"searchBoard();\")"
   ]
  },
  {
   "cell_type": "code",
   "execution_count": 46,
   "metadata": {},
   "outputs": [
    {
     "name": "stderr",
     "output_type": "stream",
     "text": [
      "c:\\python37\\lib\\site-packages\\ipykernel_launcher.py:2: DeprecationWarning: use driver.switch_to.frame instead\n",
      "  \n"
     ]
    }
   ],
   "source": [
    "query_bbs = ch_driver.find_element_by_id('cafe_main')\n",
    "ch_driver.switch_to_frame(query_bbs)"
   ]
  },
  {
   "cell_type": "code",
   "execution_count": 49,
   "metadata": {},
   "outputs": [
    {
     "data": {
      "text/plain": [
       "'https://cafe.naver.com/ArticleRead.nhn?clubid=10050146&page=1&inCafeSearch=true&searchBy=0&query=%B8%C6%BA%CF%C7%C1%B7%CE&includeAll=&exclude=&include=&exact=&searchdate=all&media=0&sortBy=date&articleid=540571159&referrerAllArticles=true'"
      ]
     },
     "execution_count": 49,
     "metadata": {},
     "output_type": "execute_result"
    }
   ],
   "source": [
    "title_link = ch_driver.find_elements_by_class_name(\"article\")\n",
    "title_link[0].get_attribute('href')"
   ]
  },
  {
   "cell_type": "code",
   "execution_count": 50,
   "metadata": {},
   "outputs": [
    {
     "name": "stdout",
     "output_type": "stream",
     "text": [
      "맥북 프로 2014(인천송도)\n",
      "https://cafe.naver.com/ArticleRead.nhn?clubid=10050146&page=1&inCafeSearch=true&searchBy=0&query=%B8%C6%BA%CF%C7%C1%B7%CE&includeAll=&exclude=&include=&exact=&searchdate=all&media=0&sortBy=date&articleid=540571159&referrerAllArticles=true\n",
      "눈물을 머금고 급처합니다..ㅠㅠ상태 완전 좋아요\n",
      "https://cafe.naver.com/ArticleRead.nhn?clubid=10050146&page=1&inCafeSearch=true&searchBy=0&query=%B8%C6%BA%CF%C7%C1%B7%CE&includeAll=&exclude=&include=&exact=&searchdate=all&media=0&sortBy=date&articleid=540570870&referrerAllArticles=true\n",
      "2017 13인치 맥북 프로 터치바 MPXW2KH/A 스페이스 그레이 (18년 4월 구입) 판매합니다.\n",
      "https://cafe.naver.com/ArticleRead.nhn?clubid=10050146&page=1&inCafeSearch=true&searchBy=0&query=%B8%C6%BA%CF%C7%C1%B7%CE&includeAll=&exclude=&include=&exact=&searchdate=all&media=0&sortBy=date&articleid=540570757&referrerAllArticles=true\n",
      "▶윈도우10 홈&프로 Retail ESD 정품(특가10000원) 판매합니다◀\n",
      "https://cafe.naver.com/ArticleRead.nhn?clubid=10050146&page=1&inCafeSearch=true&searchBy=0&query=%B8%C6%BA%CF%C7%C1%B7%CE&includeAll=&exclude=&include=&exact=&searchdate=all&media=0&sortBy=date&articleid=540570698&referrerAllArticles=true\n",
      "갤럭시 S8 대량으로 많이들어왓습니다 ㅎㅎ\n",
      "https://cafe.naver.com/ArticleRead.nhn?clubid=10050146&page=1&inCafeSearch=true&searchBy=0&query=%B8%C6%BA%CF%C7%C1%B7%CE&includeAll=&exclude=&include=&exact=&searchdate=all&media=0&sortBy=date&articleid=540570513&referrerAllArticles=true\n",
      "맥북프로 상태S급 매직마우스 USB허브 다 가져가세요\n",
      "https://cafe.naver.com/ArticleRead.nhn?clubid=10050146&page=1&inCafeSearch=true&searchBy=0&query=%B8%C6%BA%CF%C7%C1%B7%CE&includeAll=&exclude=&include=&exact=&searchdate=all&media=0&sortBy=date&articleid=540570051&referrerAllArticles=true\n",
      "중고스마트폰 구매희망합니다.. ( 경기도 부천 ) 직거래...\n",
      "https://cafe.naver.com/ArticleRead.nhn?clubid=10050146&page=1&inCafeSearch=true&searchBy=0&query=%B8%C6%BA%CF%C7%C1%B7%CE&includeAll=&exclude=&include=&exact=&searchdate=all&media=0&sortBy=date&articleid=540569824&referrerAllArticles=true\n",
      "아이맥 27인치 2011년 버전\n",
      "https://cafe.naver.com/ArticleRead.nhn?clubid=10050146&page=1&inCafeSearch=true&searchBy=0&query=%B8%C6%BA%CF%C7%C1%B7%CE&includeAll=&exclude=&include=&exact=&searchdate=all&media=0&sortBy=date&articleid=540568707&referrerAllArticles=true\n",
      "▶고장난 노트북, 맥북 삽니다◀\n",
      "https://cafe.naver.com/ArticleRead.nhn?clubid=10050146&page=1&inCafeSearch=true&searchBy=0&query=%B8%C6%BA%CF%C7%C1%B7%CE&includeAll=&exclude=&include=&exact=&searchdate=all&media=0&sortBy=date&articleid=540568641&referrerAllArticles=true\n",
      "2017 맥북프로 논터치바 판매합니다 (MPXU2KH/A)\n",
      "https://cafe.naver.com/ArticleRead.nhn?clubid=10050146&page=1&inCafeSearch=true&searchBy=0&query=%B8%C6%BA%CF%C7%C1%B7%CE&includeAll=&exclude=&include=&exact=&searchdate=all&media=0&sortBy=date&articleid=540568581&referrerAllArticles=true\n",
      "[공식앱] 맥북 프로 2017 13인치(CTO)터치바 스페이스그레이 급하게 팝니다.\n",
      "https://cafe.naver.com/ArticleRead.nhn?clubid=10050146&page=1&inCafeSearch=true&searchBy=0&query=%B8%C6%BA%CF%C7%C1%B7%CE&includeAll=&exclude=&include=&exact=&searchdate=all&media=0&sortBy=date&articleid=540568350&referrerAllArticles=true\n",
      "★★윈도우10▶windows10## 정품인증 ▶한글2014 제공▶홈→프로 Upgrade## 1분내 발송 ★★\n",
      "https://cafe.naver.com/ArticleRead.nhn?clubid=10050146&page=1&inCafeSearch=true&searchBy=0&query=%B8%C6%BA%CF%C7%C1%B7%CE&includeAll=&exclude=&include=&exact=&searchdate=all&media=0&sortBy=date&articleid=540568260&referrerAllArticles=true\n",
      "▶윈도우10 홈&프로 Retail ESD 정품(특가10000원) 판매합니다◀\n",
      "https://cafe.naver.com/ArticleRead.nhn?clubid=10050146&page=1&inCafeSearch=true&searchBy=0&query=%B8%C6%BA%CF%C7%C1%B7%CE&includeAll=&exclude=&include=&exact=&searchdate=all&media=0&sortBy=date&articleid=540568089&referrerAllArticles=true\n",
      "[삽니다] @애플 아이맥/맥북 전기종@ #최고가 #종류관계없이 #당일방문매입 #현금지급 #5분쿨거래 #선입금거래 #2017 우수업체선정\n",
      "https://cafe.naver.com/ArticleRead.nhn?clubid=10050146&page=1&inCafeSearch=true&searchBy=0&query=%B8%C6%BA%CF%C7%C1%B7%CE&includeAll=&exclude=&include=&exact=&searchdate=all&media=0&sortBy=date&articleid=540567945&referrerAllArticles=true\n",
      "[삽니다] @애플 아이패드 등 태블릿PC 전기종@ #최고가 #종류관계없이 #당일방문매입 #현금지급 #5분쿨거래 #선입금거래 #2017 우수업체선정\n",
      "https://cafe.naver.com/ArticleRead.nhn?clubid=10050146&page=1&inCafeSearch=true&searchBy=0&query=%B8%C6%BA%CF%C7%C1%B7%CE&includeAll=&exclude=&include=&exact=&searchdate=all&media=0&sortBy=date&articleid=540567121&referrerAllArticles=true\n"
     ]
    }
   ],
   "source": [
    "for item in title_link:\n",
    "    title = item.text\n",
    "    link = item.get_attribute('href')\n",
    "    print(title, link, sep = '\\n')"
   ]
  },
  {
   "cell_type": "code",
   "execution_count": null,
   "metadata": {},
   "outputs": [],
   "source": []
  }
 ],
 "metadata": {
  "kernelspec": {
   "display_name": "Python 3",
   "language": "python",
   "name": "python3"
  },
  "language_info": {
   "codemirror_mode": {
    "name": "ipython",
    "version": 3
   },
   "file_extension": ".py",
   "mimetype": "text/x-python",
   "name": "python",
   "nbconvert_exporter": "python",
   "pygments_lexer": "ipython3",
   "version": "3.7.1"
  }
 },
 "nbformat": 4,
 "nbformat_minor": 2
}
