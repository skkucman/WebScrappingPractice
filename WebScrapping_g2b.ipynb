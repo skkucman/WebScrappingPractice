{
 "cells": [
  {
   "cell_type": "code",
   "execution_count": 29,
   "metadata": {},
   "outputs": [],
   "source": [
    "import requests\n",
    "from bs4 import BeautifulSoup\n",
    "#import selenium\n",
    "from selenium import webdriver\n",
    "import time"
   ]
  },
  {
   "cell_type": "code",
   "execution_count": 30,
   "metadata": {},
   "outputs": [],
   "source": [
    "ch_driver = webdriver.Chrome('C:\\\\Python37\\\\chromedriver.exe')"
   ]
  },
  {
   "cell_type": "code",
   "execution_count": 31,
   "metadata": {},
   "outputs": [],
   "source": [
    "ch_driver.get('http://www.g2b.go.kr:8097/servlet/sub02/XZMOK_SMOK_MListView')"
   ]
  },
  {
   "cell_type": "code",
   "execution_count": 32,
   "metadata": {},
   "outputs": [],
   "source": [
    "ch_driver.find_element_by_id('top-sub-menu2').find_element_by_tag_name('a').click()\n",
    "\n"
   ]
  },
  {
   "cell_type": "code",
   "execution_count": 17,
   "metadata": {},
   "outputs": [
    {
     "ename": "AttributeError",
     "evalue": "'NoneType' object has no attribute 'click'",
     "output_type": "error",
     "traceback": [
      "\u001b[1;31m---------------------------------------------------------------------------\u001b[0m",
      "\u001b[1;31mAttributeError\u001b[0m                            Traceback (most recent call last)",
      "\u001b[1;32m<ipython-input-17-96a71d51b47f>\u001b[0m in \u001b[0;36m<module>\u001b[1;34m\u001b[0m\n\u001b[1;32m----> 1\u001b[1;33m \u001b[0msearch_product_page\u001b[0m\u001b[1;33m.\u001b[0m\u001b[0mclick\u001b[0m\u001b[1;33m(\u001b[0m\u001b[1;33m)\u001b[0m\u001b[1;33m\u001b[0m\u001b[1;33m\u001b[0m\u001b[0m\n\u001b[0m",
      "\u001b[1;31mAttributeError\u001b[0m: 'NoneType' object has no attribute 'click'"
     ]
    }
   ],
   "source": [
    "#search_product_page.click()"
   ]
  },
  {
   "cell_type": "code",
   "execution_count": 33,
   "metadata": {},
   "outputs": [],
   "source": [
    "category_input = ch_driver.find_element_by_id(\"CATE_ID\")\n",
    "category = '30131502'\n",
    "category_input.send_keys(category)"
   ]
  },
  {
   "cell_type": "code",
   "execution_count": 34,
   "metadata": {},
   "outputs": [],
   "source": [
    "search_btn = ch_driver.find_element_by_id('Search')\n",
    "search_btn.click()\n"
   ]
  },
  {
   "cell_type": "code",
   "execution_count": null,
   "metadata": {},
   "outputs": [],
   "source": [
    "time.sleep(90)"
   ]
  },
  {
   "cell_type": "code",
   "execution_count": 35,
   "metadata": {},
   "outputs": [],
   "source": [
    "html = ch_driver.page_source"
   ]
  },
  {
   "cell_type": "code",
   "execution_count": 29,
   "metadata": {},
   "outputs": [
    {
     "data": {
      "text/plain": [
       "'<!DOCTYPE html PUBLIC \"-//W3C//DTD XHTML 1.0 Transitional//EN\" \"http://www.w3.org/TR/xhtml1/DTD/xhtml1-transitional.dtd\"><html xmlns=\"http://www.w3.org/1999/xhtml\" lang=\"ko\" xml:lang=\"ko\"><head>\\n<meta http-equiv=\"Content-Type\" content=\"text/html; charset=euc-kr\" />\\n<title>목록검색 결과\\n | 목록정보시스템</title>\\n<link rel=\"stylesheet\" type=\"text/css\" href=\"/css/sub.css\" />\\n<script type=\"text/javascript\" src=\"/js/menu.js\"></script>\\n<script type=\"text/javascript\">\\n//&lt;![CDATA[\\n\\n//]]&gt;\\n</script>\\n<!--[if lte IE 6]><body class=\"ie ie6\"><![endif]-->\\n<!--[if lte IE 7]><body class=\"ie ie7\"><![endif]-->\\n</head>\\n<body>\\n\\t<p class=\"skip-navigation\"><a href=\"#sidebar\">서브메뉴 바로가기</a></p>\\n\\t<p class=\"skip-navigation\"><a href=\"#contents\">본문 바로가기</a></p>\\n\\t<div id=\"wrap\">\\n\\t\\t<!--header 영역 시작-->\\n\\t\\t<div id=\"header\">\\n\\t\\t\\t \\n\\n<script type=\"text/javascript\">\\n//&lt;![CDATA[\\nfunction pop_login(url)\\n{\\n\\twindow.open(url, \"pop_login\", \"toolbar=no,fullscreen=no,directories=no,status=no,scrollbars=yes,resize=yes,menubar=no,location=no,width=935,height=550\");\\n}\\n//]]&gt;\\n</script>\\n<!--로그인/로그아웃/자료실/Q&amp;A 시작-->\\n\\n\\t\\t\\t<h1 class=\"logo\"><a href=\"http://www.g2b.go.kr:8100/index.jsp\"><img src=\"/images/new_main/logo.gif\" alt=\"목록정보시스템\" /></a></h1>\\n\\n\\t\\t\\t<ul class=\"lnb\">\\n\\t\\t\\t\\t\\n\\t\\t\\t\\t<!--<li><a href=\"http://www.g2b.go.kr:8070/jsp/common/loginPage2.jsp?SiteGubun=Ontmok\">로그인</a></li>-->\\n\\t\\t\\t\\t<li><a href=\"http://www.g2b.go.kr:8097/common/login_pop.jsp?retmokurl=http://www.g2b.go.kr:8100/index.jsp\" onclick=\"pop_login(this.href); return false;\" target=\"_blank\" title=\"새창으로열림\">로그인</a></li>\\n\\t\\t\\t\\t\\n\\t\\t\\t\\t<li><a href=\"http://www.g2b.go.kr:8100/PpsContentsServlet?cmd=LIST&amp;pageNo=1&amp;hddSrhCategory=000&amp;hddSrhKeyword=&amp;bliCode=101\">공지사항</a></li>\\n\\t\\t\\t\\t<li><a href=\"http://www.g2b.go.kr:8097/servlet/sub05/XZMOK_BBS_ListView\">목록자료실</a></li>\\n\\t\\t\\t\\t<li class=\"last\"><a href=\"http://www.g2b.go.kr:8100/contents/sitemap.jsp?lefttab=sitemap\">사이트맵</a></li>\\n\\t\\t\\t</ul>\\n\\t\\t\\t<!--로그인/로그아웃/자료실/Q&amp;A 끝-->\\n\\t\\t\\t<hr />\\n\\t\\t\\t<!--상단 메뉴 시작-->\\n\\t\\t\\t<h2 class=\"blind\">대메뉴</h2>\\n\\t\\t\\t<ul class=\"gnb\" id=\"lnb\">\\n\\t\\t\\t\\t<li class=\"menu1\" id=\"top-menu1\"><a href=\"http://www.g2b.go.kr:8100/simpleSearch.do\" id=\"top-menu-head1\"><img src=\"http://www.g2b.go.kr:8097/images/new_main/menu_01.gif\" alt=\"지능형검색\" /></a>\\n\\t\\t\\t\\t\\t<ul id=\"top-sub-menu1\" style=\"display: none;\">\\n\\t\\t\\t\\t\\t\\t<li class=\"first\"><a href=\"http://www.g2b.go.kr:8100/simpleSearch.do?lefttab=simple\">통합검색</a></li>\\n\\t\\t\\t\\t\\t\\t<li><a href=\"http://www.g2b.go.kr:8100/detailSearch.do?lefttab=detail\">상세검색</a></li>\\n\\t\\t\\t\\t\\t\\t<li><a href=\"http://www.g2b.go.kr:8100/onTechCat01L.do?lefttab=techdic\">기술사전검색</a></li>\\n\\t\\t\\t\\t\\t\\t<li><a href=\"http://www.g2b.go.kr:8100/onRltnG2B01L.do?lefttab=relation\">연관상품검색</a></li>\\n\\t\\t\\t\\t\\t</ul>\\n\\t\\t\\t\\t</li>\\n\\t\\t\\t\\t<li class=\"menu2\" id=\"top-menu2\"><a href=\"http://www.g2b.go.kr:8097/servlet/sub02/XZMOK_SMOK_MListView\" id=\"top-menu-head2\"><img src=\"http://www.g2b.go.kr:8097/images/new_main/menu_02_ov.gif\" alt=\"일반검색\" /></a>\\n\\t\\t\\t\\t\\t<ul id=\"top-sub-menu2\" style=\"display: block;\">\\n\\t\\t\\t\\t\\t\\t<li class=\"first\"><a href=\"http://www.g2b.go.kr:8097/servlet/sub02/XZMOK_SMOK_MListView\">품목검색</a></li>\\n\\t\\t\\t\\t\\t\\t<li><a href=\"http://www.g2b.go.kr:8097/servlet/sub02/XZMOK_SPUM_MListView\">품명검색</a></li>\\n\\t\\t\\t\\t\\t\\t<li><a href=\"http://www.g2b.go.kr:8097/servlet/sub02/XZMOK_SMOK_MListView_Comp\">소재지별검색</a></li>\\n\\t\\t\\t\\t\\t\\t<li><a href=\"http://www.g2b.go.kr:8097/servlet/sub02/XZMOK_SRMP_MListView?system=sp&amp;cate_id=root&amp;cmd=srmpu\">물품안내지도</a></li>\\n\\t\\t\\t\\t\\t\\t<li><a href=\"http://www.g2b.go.kr:8097/servlet/sub02/HP_CGV_CTEHis_MList\">분류변경이력</a></li>\\n\\t\\t\\t\\t\\t\\t<li><a href=\"http://www.g2b.go.kr:8097/servlet/sub02/XZMOK_MO_SVC_List_MU\">품목변경이력</a></li>\\n\\t\\t\\t\\t\\t</ul>\\n\\t\\t\\t\\t</li>\\n\\t\\t\\t\\t\\n\\t\\t\\t\\t<li class=\"menu3\" id=\"top-menu3\"><a href=\"http://www.g2b.go.kr:8097/XezCatalog/XZMOK/user_jsp/XZMOK_CATE_Note.jsp\" id=\"top-menu-head3\"><img src=\"http://www.g2b.go.kr:8097/images/new_main/menu_03.gif\" alt=\"목록화요청\" /></a>\\n\\t\\t\\t\\t\\t<ul id=\"top-sub-menu3\" style=\"display: none;\">\\n\\t\\t\\t\\t\\t\\t<li class=\"first\"><a href=\"http://www.g2b.go.kr:8097/XezCatalog/XZMOK/user_jsp/XZMOK_CATE_Note.jsp\">품목등록</a></li>\\n\\t\\t\\t\\t\\t\\t<!-- li><a href=\"http://www.g2b.go.kr:8097/XezCatalog/XZMOK/user_jsp/XZMOK_BULK_Note.jsp\">품목일괄등록</a></li-->\\n\\t\\t\\t\\t\\t\\t<li><a href=\"http://www.g2b.go.kr:8097/servlet/sub03/XZMOK_MPRO_UListView\">품목변경</a></li>\\n\\t\\t\\t\\t\\t\\t<li><a href=\"http://www.g2b.go.kr:8097/servlet/sub03/XZMOKRequestServlet?cmd=searchCategory&amp;keyword=\">품명등록</a></li>\\n\\t\\t\\t\\t\\t\\t\\n\\t\\t\\t\\t\\n\\t\\t\\t\\t\\t\\t<li><a href=\"http://www.g2b.go.kr:8097/servlet/sub03/XZMOK_PROVIDE_REQ_agree\">목록정보제공</a></li>\\n\\t\\t\\t\\t\\n\\t\\t\\t\\t\\t\\t\\n\\t\\t\\t\\t\\t\\t<!-- li><a href=\"http://www.g2b.go.kr:8097/servlet/sub03/XZMOK_CATE_UList_DOWN\">일괄요청파일다운</a></li-->\\n\\t\\t\\t\\t\\t</ul>\\n\\t\\t\\t\\t</li>\\n\\t\\t\\t\\t<li class=\"menu4\" id=\"top-menu4\"><a href=\"http://www.g2b.go.kr:8097/servlet/sub04/XZMOK_RES_ListView\" id=\"top-menu-head4\"><img src=\"http://www.g2b.go.kr:8097/images/new_main/menu_04.gif\" alt=\"목록화처리현황\" /></a>\\n\\t\\t\\t\\t\\t<ul id=\"top-sub-menu4\" style=\"display: none;\">\\n\\t\\t\\t\\t\\t\\t<li class=\"first\"><a href=\"http://www.g2b.go.kr:8097/servlet/sub04/XZMOK_RES_ListView\">품목등록처리결과</a></li>\\n\\t\\t\\t\\t\\t\\t<li><a href=\"http://www.g2b.go.kr:8097/servlet/sub04/XZMOK_MODI_ListView\">품목변경처리결과</a></li>\\n\\t\\t\\t\\t\\t\\t<li><a href=\"http://www.g2b.go.kr:8097/servlet/sub04/XZMOK_RESP_ListView\">품명등록처리결과</a></li>\\n\\t\\t\\t\\t\\t\\t<li><a href=\"http://www.g2b.go.kr:8097/servlet/sub04/XZMOK_PROVIDE_REQ_Result\">목록정보제공처리결과</a></li>\\n\\t\\t\\t\\t\\t</ul>\\n\\t\\t\\t\\t</li>\\n\\t\\t\\t\\t\\n\\t\\t\\t</ul>\\n\\t\\t\\t<!--상단 메뉴 끝-->\\n\\n\\t\\t\\t<script type=\"text/javascript\">initTopmenuByMenuId(02,00,00,00,\"lnb\");</script>\\n\\n</div>\\n\\t\\t<hr />\\n\\t\\t<!--header 영역 끝-->\\n   \\t\\t<!--container 영역 시작-->\\n   \\t \\t<div id=\"container\">\\n\\t\\t\\t<div id=\"sidebar\">\\n\\t\\t\\t\\t<div class=\"sidebarAll\">\\n\\t\\t\\t\\t  <h2 class=\"title\"><span class=\"text\">일반검색</span></h2>\\n\\t\\t\\t\\t  <ul>\\n\\t\\t\\t\\t    <li><a href=\"http://www.g2b.go.kr:8097/servlet/sub02/XZMOK_SMOK_MListView\" class=\"on\">품목검색</a></li>\\n\\t\\t\\t\\t    <li><a href=\"http://www.g2b.go.kr:8097/servlet/sub02/XZMOK_SPUM_MListView\">품명검색</a></li>\\n\\t\\t\\t\\t    <li><a href=\"http://www.g2b.go.kr:8097/servlet/sub02/XZMOK_SMOK_MListView_Comp\">소재지별검색</a></li>\\n\\t\\t\\t\\t    <li><a href=\"http://www.g2b.go.kr:8097/servlet/sub02/XZMOK_SRMP_MListView?system=sp&amp;cate_id=root&amp;cmd=srmpu\">물품안내지도</a></li>\\n\\t          <li><a href=\"http://www.g2b.go.kr:8097/servlet/sub02/HP_CGV_CTEHis_MList\">분류변경이력</a></li>\\n\\t\\t\\t      <li><a href=\"http://www.g2b.go.kr:8097/servlet/sub02/XZMOK_MO_SVC_List_MU\">품목변경이력</a></li>\\n\\t\\t\\t\\t  </ul>\\n\\t\\t\\t\\t</div>\\n\\t\\t\\t</div>\\n        \\t<!--  2010.09.27 임동섭 운영소스 확인 -->\\n\\n\\n\\n\\n\\n<script type=\"text/javascript\">\\n//&lt;![CDATA[\\n\\n  flag = false;\\n  \\n\\tfunction checkForm() {\\n\\t\\tvar thisform = document.forms[0];\\n\\t\\tvar chk1 = false;\\n\\t\\t\\n\\t\\tvar cate = thisform.CATE_ID.value;\\n\\t\\tvar keyword1 = thisform.KN_KNCDNAME.value;\\n\\t\\tvar keyword2 = thisform.CATE_NAME_EN.value;\\n\\t\\t\\n\\t\\t\\n\\t\\tif (thisform.col_id.length != null) {\\n\\t\\t    \\tfor (var i = 0 ; i&lt;thisform.col_id.length ; i++) {\\n\\t\\t\\t\\t\\tchktext = eval(\"thisform.\"+thisform.col_id[i].value);\\n\\t\\t\\t\\t\\t\\n\\t\\t\\t\\t\\tif (chktext.value != \\'\\') {\\n\\t\\t\\t\\t\\t\\tchk1 = true;\\n\\t\\t\\t\\t\\t\\tbreak;\\n\\t\\t\\t\\t\\t}\\n\\t\\t    \\t}\\n\\t    } else  {\\n\\t    \\tif (thisform.col_id.value.length &gt; 0) ;\\n\\t\\t\\t\\tchktext = eval(\"thisform.\"+thisform.col_id.value);\\n\\t\\t\\t\\t\\n\\t\\t\\t\\tif (chktext.value != \\'\\') \\t\\t\\t\\t\\t\\n\\t\\t\\t\\t\\t\\n\\t\\t\\t\\tchk1 = true;\\n\\t    }\\n\\t    \\tif (chk1){      \\t\\t\\n\\n\\t    \\t\\tif(keyword1 != \\'\\' || keyword2 != \\'\\'){\\n\\t    \\t\\t\\t//alert(\\'====keyword1==\\' +keyword1 );\\n\\t    \\t\\t\\t//alert(\\'====keyword2==\\' +keyword2 );\\n\\t    \\t\\t\\t//alert(\\'====cate==\\' +cate );\\n\\t    \\t\\t\\tif(cate == \\'\\'){\\n\\t    \\t\\t\\t\\t\\n\\t    \\t\\t\\t\\talert(\\'세부품명번호에 2자리 이상 입력하십시오.\\');\\t\\t\\t\\t\\t\\t\\n\\t    \\t\\t\\t\\tthisform.CATE_ID.focus();\\n\\t    \\t\\t\\t\\t\\n\\t    \\t\\t\\t\\treturn false;\\n\\t    \\t\\t\\t}\\n\\t    \\t\\t\\treturn true;\\t\\t\\t\\t\\t\\t\\n\\t    \\t\\t}\\n\\t    \\t\\t\\n\\t    \\t\\treturn true;\\n\\t    \\t}else {\\n\\t    \\t\\talert(\\'검색어나 선택사항이 없습니다.\\');\\n\\t    \\t\\tthisform.CATE_ID.focus();\\n\\t    \\t\\treturn false;\\n\\t    \\t}\\n\\t\\treturn true;\\n\\t}\\n\\n\\tfunction search()\\n\\t{\\n\\t\\t\\t\\n\\t\\t\\n\\t\\tif(!flag){\\n\\t\\t\\t// flag = true; \\n\\t\\t\\tif (checkForm())\\n\\t\\t\\t{\\t\\t\\t\\t\\n\\t\\t\\t\\t\\t\\t\\t\\t\\n\\t\\t\\t\\t//{jsh} line 이동..검색어 입력 안되었을 때 flag가 true로 세팅 되면 안됨..\\n\\t\\t\\t\\tflag = true; \\n\\t\\t\\t\\t\\t\\t\\t\\t\\n\\t\\t\\t\\tdocument.forms[0].sort1.value=\"\";\\n\\t\\t\\t\\tdocument.forms[0].sort2.value=\"\";\\n\\t\\t\\t\\t//{jsh}\\n\\t\\t\\t\\tdocument.forms[0].pg_no.value=\"\";\\n\\t\\t\\t\\t// 품목검색일경우\\n\\t\\t\\t\\tdocument.forms[0].ischks.value=\"Y\";\\n\\n\\n\\t\\t\\t\\t//\\tdocument.forms[0].target= \"middle\";\\n\\t\\t\\t\\t//검색조건에 맞는 인덱스를 타기위해 디폴트값 PROD_ID 제외.(검색속도향상)   2008.07.23 성봉철\\n\\t\\t\\t\\t//document.forms[0].action=\"/servlet/XZMOK_SMOK_IframeList?sort2=PROD_ID\";\\n\\t\\t\\t\\tdocument.forms[0].action=\"/servlet/sub02/XZMOK_SMOK_MListView\";\\n\\t\\t\\t\\treturn true;\\n\\t\\t\\t}else{\\n\\t\\t\\t\\treturn false;\\n\\t\\t\\t}\\n\\t\\t\\t\\n\\t\\t}else{\\n\\t\\t\\talert(\"이미 실행 중입니다.\");\\t\\t\\n\\t\\t\\treturn false;\\n\\t\\t}\\n\\t}\\n\\n\\tfunction search1() {\\n\\t\\tif (checkForm()) {\\n\\t\\t\\t\\tdocument.forms[0].ischks.value=\"Y\";\\n\\t\\t\\t\\tform1.submit();\\n\\t\\t} else return false;\\n\\t}\\n\\t\\n\\tfunction gbKn(obj) {\\n\\t\\t\\n\\t\\tvar gubun = obj;\\n\\t\\t\\n\\t\\t//alert(\"드루와?????\"+gubun);\\n\\n\\t\\tif (gubun == \"3\" || gubun == \"4\" || gubun == \"5\"){\\n\\t\\t//alert(\"드루와?????\"+gubun);\\n\\t\\talert(\"비공개 품목으로, 정부물품관리에 사용할 수 없습니다.\");\\n\\t\\t\\n\\t\\t}\\n\\t\\treturn false;\\n\\n\\t}\\n\\n\\tfunction pop_cate(cat) {\\n  \\t\\turl = \"/servlet/XZMOK_CATE_ListView?cate_id=root&amp;system=\"+cat+\"&amp;cmd=smok\";\\n\\t\\twindow.open(url,\"subinsert\",\"toolbar=no,fullscreen=no,directories=no,status=no,scrollbars=yes,resize=yes,menubar=no,location=yes,width=585,height=430\");\\n\\t}\\n\\n\\t//봉.  이미지확대보기 추가 2008.07.08 성봉철\\n\\tfunction img_view_L(img , test){      // 대자 이미지\\n\\n\\n\\n\\t\\tif(img.length &lt; 1) return;\\n\\n\\t\\turl = \"/servlet/XZMOK_USER_Image?flag=0&amp;flag_new=1&amp;img=\"+img;   //flag_new=0이면 temp 디렉토리에\\n\\t\\twindow.open(url,\"확대이미지\",\"toolbar=no,fullscreen=no,directories=no,status=no,scrollbars=yes,resize=yes,menubar=no,location=no,width=520,height=520\");\\n\\n\\n\\t}\\n\\n\\tfunction SortValue1(value)\\n\\t{\\n\\t\\tdocument.forms[0].sort1.value=value;\\n\\t\\tdocument.forms[0].sort2.value=\"\";\\n\\t\\tdocument.forms[0].ischks.value=\"Y\";\\n\\t\\t//{jsh} 2012 08 09 암호화 때문에 1 대신 공백 세팅\\n\\t\\tdocument.forms[0].pg_no.value=\"\";\\n\\t\\tdocument.forms[0].submit();\\n\\t}\\n\\n\\tfunction SortValue2(value)\\n\\t{\\n\\t\\tdocument.forms[0].sort1.value=\"\";\\n\\t\\tdocument.forms[0].sort2.value=value;\\n\\t\\tdocument.forms[0].ischks.value=\"Y\";\\n\\t\\t//{jsh} 2012 08 09 암호화 때문에 1 대신 공백 세팅\\n\\t\\tdocument.forms[0].pg_no.value=\"\";\\n\\t\\tdocument.forms[0].submit();\\n\\t}\\n\\n\\tfunction move_page(pg_no) {\\n\\n\\t\\tdocument.forms[0].pg_no.value=pg_no;\\n\\t\\tdocument.forms[0].submit();\\n\\t}\\n\\tfunction search1() {\\n\\t\\tdocument.forms[0].ischks.value=\"Y\";\\n\\t\\t//{jsh} 2012 08 09 암호화 때문에 1 대신 공백 세팅\\n\\t\\tdocument.forms[0].pg_no.value=\"\";\\n\\t\\tform1.submit();\\n\\t}\\n\\n\\tfunction MM_openBrWindow(theURL,winName,features) { //v2.0\\n\\t  window.open(theURL,winName,features);\\n\\t}\\n\\n\\tfunction getProdlist2(url){\\n\\t\\twindow.open(url,\"공통속성정보\",\"toolbar=no,fullscreen=no,directories=no,status=no,scrollbars=yes,resize=yes,menubar=no,location=no,width=800,height=600\");\\n\\n\\t}\\n\\n\\n//]]&gt;\\n</script>\\n\\n    <div id=\"contents\">\\n\\n<!--타이틀 및 위치정보 영역 시작-->\\n\\t<div class=\"title\">\\n  \\t\\t<h1 class=\"titleText\">품목검색</h1>\\n\\t</div>\\n\\t<div class=\"location\">\\n  \\t\\t     <p class=\"locationText\"><a href=\"/index.jsp\"><img src=\"/images/new_sub/home.gif\" alt=\"home\" /></a> &gt; <a href=\"/servlet/sub02/XZMOK_SMOK_MListView\">일반검색</a> &gt; <a href=\"/servlet/sub02/XZMOK_SMOK_MListView\">품목검색</a></p>\\n\\t</div>\\n<!--타이틀 및 위치정보 영역 끝-->\\n<!--본문 내용 시작-->\\n\\t<form name=\"form1\" onsubmit=\"return search()\" method=\"post\" action=\"/servlet/sub02/XZMOK_SMOK_MListView\">\\n\\t<input type=\"hidden\" name=\"pg_no\" id=\"pg_no\" value=\"\" />\\n\\t<input type=\"hidden\" name=\"ischks\" id=\"ischks\" value=\"N\" />\\t\\n\\t<input type=\"hidden\" name=\"gb\" id=\"gb\" value=\"\" />\\n\\t<!-- {jsh} 2012 10 16 웹접근성 수정 ..title 변경을 위한 파라미터 추가 -->\\n\\t<input type=\"hidden\" name=\"isSearch\" id=\"isSearch\" value=\"Y\" />\\n\\t\\n\\t<input type=\"hidden\" name=\"system\" value=\"sp\" />\\n<input type=\"hidden\" name=\"cmd\" value=\"\" />\\n<input type=\"hidden\" name=\"cate_id\" value=\"\" />\\n\\n\\n\\t<ul class=\"tbBt01\">\\n\\t\\n\\t<h2 class=\"h2Type01\">[품목구분 설명]</h2>\\n\\t - <strong>일반품목, 부품</strong> : 정부 물품관리 등 모든 분야에 사용 가능<br />\\n\\t - <strong>계약관리, 시설자재, 대표품목</strong> : 정부 물품관리에 사용 불가(물품 계약, 공사 원가계산 등 한정된 용도에 사용)<br />\\n\\t - <strong>물품관리</strong> : 정부 물품관리에 사용(나라장터 종합쇼핑몰에는 사용 불가)\\n  \\n    <!--<li class=\"bt_Alr\">\\n\\t<a href=\"/XezCatalog/popup/InjungInfoview.html\" target=\"_blank\" title=\"새창으로 이동\"  onclick=\"MM_openBrWindow(this.href, \\'\\', \\'width=560,height=450,toolbar=no,status=no,scrollbars=yes,resize=no,menubar=no,location=no\\'); return false;\"><img src=\"/images/new_sub/bt02.gif\" id=\"doum1\" alt=\"인증정보 도움말\" class=\"inputBtn\" /></a>\\n    <a href=\"/XezCatalog/popup/help.jsp\"            target=\"_blank\" title=\"새창으로 이동\"  onclick=\"MM_openBrWindow(this.href, \\'\\', \\'width=585,height=430,toolbar=no,fullscreen=no,directories=no,status=no,scrollbars=yes,resize=yes,menubar=no,location=no\\'); return false;\"><img src=\"/images/new_sub/bt03.gif\" id=\"doum2\" alt=\"도움말\" class=\"inputBtn\" /></a>\\n\\t</li>\\n\\t-->\\n    </ul>\\n\\n\\t<table class=\"tb01\" summary=\"이 표는 세부품명번호,물품식별번호,품명,인증명,영문품명,한글품목명 중 한가지이상 입력하여 조회하실 수 있습니다.\">\\n\\t<caption>품목검색 입력테이블</caption>\\n    <tbody>\\n\\t<!-- 목록 검색 -->\\n\\t<tr> \\n<th scope=\"row\"><label for=\"CATE_ID\" class=\"show\">세부품명번호</label>:</th>\\n<td><input type=\"hidden\" name=\"col_id\" value=\"CATE_ID\" /><input type=\"text\" name=\"CATE_ID\" id=\"CATE_ID\" value=\"30131502\" size=\"10\" maxlength=\"10\" /> <a href=\"/servlet/XZMOK_CATE_ListView?cate_id=root&amp;system=sp&amp;cmd=smok\" onclick=\"pop_cate(\\'sp\\'); return false;\" target=\"_blank\" title=\"새창으로 이동\"> <img src=\"/images/new_sub/bt52.gif\" id=\"Search1\" alt=\"찾기\" class=\"inputBtn\" /></a></td>\\n<th scope=\"row\"><label for=\"PROD_ID\" class=\"show\">물품식별번호</label>:</th>\\n<td><input type=\"hidden\" name=\"col_id\" value=\"PROD_ID\" /><input type=\"text\" name=\"PROD_ID\" id=\"PROD_ID\" value=\"\" size=\"10\" maxlength=\"8\" /></td>\\n<th scope=\"row\"><label for=\"CATE_NAME\" class=\"show\">품명</label>:</th>\\n<td><input type=\"hidden\" name=\"col_id\" value=\"CATE_NAME\" /><input type=\"text\" name=\"CATE_NAME\" id=\"CATE_NAME\" value=\"\" size=\"10\" /></td>\\n<th><label for=\"CERT_CODE\" class=\"show\">인증명</label>:</th>\\n<td><input type=\"hidden\" name=\"col_id\" value=\"CERT_CODE\" size=\"10\" /><select name=\"CERT_CODE\" id=\"CERT_CODE\"><option value=\"\">선택하세요</option><option value=\"09\">환경표지제품</option><option value=\"11\">NEP</option><option value=\"15\">GR</option></select></td></tr> <tr> \\n<th scope=\"row\"><label for=\"CATE_NAME_EN\" class=\"show\">영문품명</label>:</th>\\n<td><input type=\"hidden\" name=\"col_id\" value=\"CATE_NAME_EN\" /><input type=\"text\" name=\"CATE_NAME_EN\" id=\"CATE_NAME_EN\" value=\"\" size=\"10\" /></td>\\n<th scope=\"row\"><label for=\"KN_KNCDNAME\" class=\"show\">품목명</label>:</th>\\n<td colspan=\"5\"><input type=\"hidden\" name=\"col_id\" value=\"KN_KNCDNAME\" /><input type=\"text\" name=\"KN_KNCDNAME\" id=\"KN_KNCDNAME\" value=\"\" size=\"34\" /></td>\\n\\n\\t</tr>\\n\\t<!-- //목록 검색 -->\\n \\t</tbody>\\n    </table>\\n\\n\\t<ul class=\"tbBt01\">\\n\\t<li class=\"bt_Alr\">\\n\\t<a href=\"/XezCatalog/popup/InjungInfoview.html\" target=\"_blank\" title=\"새창으로 이동\" onclick=\"MM_openBrWindow(this.href, \\'\\', \\'width=560,height=450,toolbar=no,status=no,scrollbars=yes,resize=no,menubar=no,location=no\\'); return false;\"><img src=\"/images/new_sub/bt02.gif\" id=\"doum1\" alt=\"인증정보 도움말\" class=\"inputBtn\" /></a>\\n\\t<a href=\"/XezCatalog/popup/help.jsp\" target=\"_blank\" title=\"새창으로 이동\" onclick=\"MM_openBrWindow(this.href, \\'\\', \\'width=585,height=430,toolbar=no,fullscreen=no,directories=no,status=no,scrollbars=yes,resize=yes,menubar=no,location=no\\'); return false;\"><img src=\"/images/new_sub/bt03.gif\" id=\"doum2\" alt=\"도움말\" class=\"inputBtn\" /></a>\\n\\t<input name=\"Search\" type=\"image\" src=\"/images/new_sub/bt04.gif\" id=\"Search\" alt=\"검색\" class=\"inputBtn\" />\\n\\t</li>\\n    \\t<!--<li class=\"bt_Alr\">\\n        <input name=\"Search\" type=\"image\" src=\"/images/new_sub/bt04.gif\" id=\"Search\" alt=\"검색\" class=\"inputBtn\" />\\n     \\t</li>\\n\\t-->\\n\\t</ul>\\n\\t<!--\\n\\t   <div id=\"loading\" style=\"position:absolute; left:210px; top:70px; z-index:1; visibility:visible; background: url(\\'images/common/waiting.gif\\') no-repeat;\"></div>\\n\\t-->\\n\\t<h2 class=\"blind\">검색결과</h2>\\n    <input type=\"hidden\" name=\"sort1\" value=\"\" />\\n<input type=\"hidden\" name=\"sort2\" value=\"\" />\\n\\n\\n    <!--검색중 시작-->\\n    <!--<div class=\"waiting\"></div>-->\\n    <!--검색중 끝-->\\n\\n    <ul class=\"tbTop02\">\\n<li class=\"Right\">총 게시물 33343건[1/3335] \\n<label for=\"Part2\">보여질 게시물 개수 선택</label>\\n<select name=\"page_size\" id=\"Part2\">\\n<option value=\"x3oQQBDo_gO8dzdFYsllyw==\">10</option>\\n<option value=\"sMFuCYM0hmzN7Fmkye2vsQ==\">20</option>\\n<option value=\"1cx~3FcuBXLZ1WF8EuvVCg==\">50</option>\\n<option value=\"T1Az0Y7cf5jHhipf0CTZVw==\">100</option>\\n</select>\\n<input name=\"view\" type=\"image\" src=\"/images/new_sub/bt31.gif\" id=\"view\" onclick=\"search1(); return false;\" alt=\"보기\" class=\"inputBtn\" />\\n</li>\\n</ul>\\n<table class=\"tb02\" summary=\"이 표는 물품이미지,세부품명번호,물품식별번호,품명,한글 품목명으로 이루어져 있습니다.\">\\n<caption>품목검색결과</caption>\\n<thead>\\n<tr>\\n<th scope=\"col\" class=\"Fi\"><span>물품이미지</span></th>\\n<th scope=\"col\" class=\"Fi\"><span>세부품명번호</span><ul class=\"tbBt\"><li><a href=\"/servlet/sub02/XZMOK_SMOK_MListView?pg_no=6uI8hS8Bjnxn5CjJ8sOL9A==&amp;ischks=Y&amp;system=sp&amp;cmd=&amp;cate_id=&amp;CATE_ID=30131502&amp;PROD_ID=&amp;CATE_NAME=&amp;CERT_CODE=&amp;CATE_NAME_EN=&amp;KN_KNCDNAME=&amp;GB_KNCD=&amp;page_size=x3oQQBDo_gO8dzdFYsllyw==&amp;isSearch=Y&amp;sort1=CATE_DT_ID&amp;sort2=\" onclick=\"SortValue1(\\'CATE_DT_ID\\'); return false;\"><img src=\"/images/new_sub/bt05.gif\" alt=\"오름차순정렬\" /></a></li><li><a href=\"/servlet/sub02/XZMOK_SMOK_MListView?pg_no=6uI8hS8Bjnxn5CjJ8sOL9A==&amp;ischks=Y&amp;system=sp&amp;cmd=&amp;cate_id=&amp;CATE_ID=30131502&amp;PROD_ID=&amp;CATE_NAME=&amp;CERT_CODE=&amp;CATE_NAME_EN=&amp;KN_KNCDNAME=&amp;GB_KNCD=&amp;page_size=x3oQQBDo_gO8dzdFYsllyw==&amp;isSearch=Y&amp;sort1=&amp;sort2=CATE_DT_ID\" onclick=\"SortValue2(\\'CATE_DT_ID\\'); return false;\"><img src=\"/images/new_sub/bt06.gif\" alt=\"내림차순정렬\" /></a></li></ul></th>\\n<th scope=\"col\" class=\"Fi\"><span>물품식별번호</span><ul class=\"tbBt\"><li><a href=\"/servlet/sub02/XZMOK_SMOK_MListView?pg_no=6uI8hS8Bjnxn5CjJ8sOL9A==&amp;ischks=Y&amp;system=sp&amp;cmd=&amp;cate_id=&amp;CATE_ID=30131502&amp;PROD_ID=&amp;CATE_NAME=&amp;CERT_CODE=&amp;CATE_NAME_EN=&amp;KN_KNCDNAME=&amp;GB_KNCD=&amp;page_size=x3oQQBDo_gO8dzdFYsllyw==&amp;isSearch=Y&amp;sort1=PROD_ID&amp;sort2=\" onclick=\"SortValue1(\\'PROD_ID\\'); return false;\"><img src=\"/images/new_sub/bt05.gif\" alt=\"오름차순정렬\" /></a></li><li><a href=\"/servlet/sub02/XZMOK_SMOK_MListView?pg_no=6uI8hS8Bjnxn5CjJ8sOL9A==&amp;ischks=Y&amp;system=sp&amp;cmd=&amp;cate_id=&amp;CATE_ID=30131502&amp;PROD_ID=&amp;CATE_NAME=&amp;CERT_CODE=&amp;CATE_NAME_EN=&amp;KN_KNCDNAME=&amp;GB_KNCD=&amp;page_size=x3oQQBDo_gO8dzdFYsllyw==&amp;isSearch=Y&amp;sort1=&amp;sort2=PROD_ID\" onclick=\"SortValue2(\\'PROD_ID\\'); return false;\"><img src=\"/images/new_sub/bt06.gif\" alt=\"내림차순정렬\" /></a></li></ul></th>\\n<th scope=\"col\" class=\"Name Fi\"><span>품명</span><ul class=\"tbBt\"><li><a href=\"/servlet/sub02/XZMOK_SMOK_MListView?pg_no=6uI8hS8Bjnxn5CjJ8sOL9A==&amp;ischks=Y&amp;system=sp&amp;cmd=&amp;cate_id=&amp;CATE_ID=30131502&amp;PROD_ID=&amp;CATE_NAME=&amp;CERT_CODE=&amp;CATE_NAME_EN=&amp;KN_KNCDNAME=&amp;GB_KNCD=&amp;page_size=x3oQQBDo_gO8dzdFYsllyw==&amp;isSearch=Y&amp;sort1=CATE_NAME&amp;sort2=\" onclick=\"SortValue1(\\'CATE_NAME\\'); return false;\"><img src=\"/images/new_sub/bt05.gif\" alt=\"오름차순정렬\" /></a></li><li><a href=\"/servlet/sub02/XZMOK_SMOK_MListView?pg_no=6uI8hS8Bjnxn5CjJ8sOL9A==&amp;ischks=Y&amp;system=sp&amp;cmd=&amp;cate_id=&amp;CATE_ID=30131502&amp;PROD_ID=&amp;CATE_NAME=&amp;CERT_CODE=&amp;CATE_NAME_EN=&amp;KN_KNCDNAME=&amp;GB_KNCD=&amp;page_size=x3oQQBDo_gO8dzdFYsllyw==&amp;isSearch=Y&amp;sort1=&amp;sort2=CATE_NAME\" onclick=\"SortValue2(\\'CATE_NAME\\'); return false;\"><img src=\"/images/new_sub/bt06.gif\" alt=\"내림차순정렬\" /></a></li></ul></th>\\n<th scope=\"col\" class=\"Fi\"><span>품목명</span><ul class=\"tbBt\"><li><a href=\"/servlet/sub02/XZMOK_SMOK_MListView?pg_no=6uI8hS8Bjnxn5CjJ8sOL9A==&amp;ischks=Y&amp;system=sp&amp;cmd=&amp;cate_id=&amp;CATE_ID=30131502&amp;PROD_ID=&amp;CATE_NAME=&amp;CERT_CODE=&amp;CATE_NAME_EN=&amp;KN_KNCDNAME=&amp;GB_KNCD=&amp;page_size=x3oQQBDo_gO8dzdFYsllyw==&amp;isSearch=Y&amp;sort1=KN_KNCDNAME&amp;sort2=\" onclick=\"SortValue1(\\'KN_KNCDNAME\\'); return false;\"><img src=\"/images/new_sub/bt05.gif\" alt=\"오름차순정렬\" /></a></li><li><a href=\"/servlet/sub02/XZMOK_SMOK_MListView?pg_no=6uI8hS8Bjnxn5CjJ8sOL9A==&amp;ischks=Y&amp;system=sp&amp;cmd=&amp;cate_id=&amp;CATE_ID=30131502&amp;PROD_ID=&amp;CATE_NAME=&amp;CERT_CODE=&amp;CATE_NAME_EN=&amp;KN_KNCDNAME=&amp;GB_KNCD=&amp;page_size=x3oQQBDo_gO8dzdFYsllyw==&amp;isSearch=Y&amp;sort1=&amp;sort2=KN_KNCDNAME\" onclick=\"SortValue2(\\'KN_KNCDNAME\\'); return false;\"><img src=\"/images/new_sub/bt06.gif\" alt=\"내림차순정렬\" /></a></li></ul></th>\\n<th scope=\"col\" class=\"Fi\"><span>품목구분</span></th>\\n</tr>\\n</thead>\\n<tbody><tr><td scope=\"row\"><a href=\"/servlet/XZMOK_USER_Image?flag=0&amp;flag_new=1&amp;img=2018/12/06/20181206171632-47.jpg&amp;alttxt=X\" target=\"_blank\" title=\"새창으로 이동\" onclick=\"MM_openBrWindow(this.href, \\'\\', \\'toolbar=no,fullscreen=no,directories=no,status=no,scrollbars=yes,resize=yes,menubar=no,location=no,width=520,height=520\\'); return false;\"><img src=\"http://img.g2b.go.kr:7070/Resource/CataAttach/XezCatalog/XZMOK/item_image/2018/12/06/20181206171632-47.jpg\" alt=\"X\" height=\"45\" width=\"50\" /></a></td><td scope=\"row\">30131502-02</td><td scope=\"row\"><a href=\"/servlet/XZMOK_STOX_UMGR?template_id=10001&amp;category=30131502&amp;system=sp&amp;product=23518750\" target=\"_blank\" title=\"새창으로 이동\" onclick=\"getProdlist2(this.href); return false;\" class=\"on\">23518750</a></td><td scope=\"row\" class=\"Name bt_All\">콘크리트블록</td><td scope=\"row\" class=\"A_L\">콘크리트호안및옹벽블록, 경북산업, kconBWK-1-2, 1종식생옹벽블록, 1000×500×650mm, BWK생태블록</td><td scope=\"row\" class=\"A_C\">일반품목</td></tr><tr><td scope=\"row\"><a href=\"/servlet/XZMOK_USER_Image?flag=0&amp;flag_new=1&amp;img=2018/12/11/20181211083940-96.jpg&amp;alttxt=X\" target=\"_blank\" title=\"새창으로 이동\" onclick=\"MM_openBrWindow(this.href, \\'\\', \\'toolbar=no,fullscreen=no,directories=no,status=no,scrollbars=yes,resize=yes,menubar=no,location=no,width=520,height=520\\'); return false;\"><img src=\"http://img.g2b.go.kr:7070/Resource/CataAttach/XezCatalog/XZMOK/item_image/2018/12/11/20181211083940-96.jpg\" alt=\"X\" height=\"45\" width=\"50\" /></a></td><td scope=\"row\">30131502-02</td><td scope=\"row\"><a href=\"/servlet/XZMOK_STOX_UMGR?template_id=10001&amp;category=30131502&amp;system=sp&amp;product=23518169\" target=\"_blank\" title=\"새창으로 이동\" onclick=\"getProdlist2(this.href); return false;\" class=\"on\">23518169</a></td><td scope=\"row\" class=\"Name bt_All\">콘크리트블록</td><td scope=\"row\" class=\"A_L\">콘크리트호안및옹벽블록, 토지, TJPB220A, 1종식생호안블록, 1000×1000×220mm, 생태블록</td><td scope=\"row\" class=\"A_C\">일반품목</td></tr><tr><td scope=\"row\"><a href=\"/servlet/XZMOK_USER_Image?flag=0&amp;flag_new=1&amp;img=2018/12/11/20181211083718-94.jpg&amp;alttxt=X\" target=\"_blank\" title=\"새창으로 이동\" onclick=\"MM_openBrWindow(this.href, \\'\\', \\'toolbar=no,fullscreen=no,directories=no,status=no,scrollbars=yes,resize=yes,menubar=no,location=no,width=520,height=520\\'); return false;\"><img src=\"http://img.g2b.go.kr:7070/Resource/CataAttach/XezCatalog/XZMOK/item_image/2018/12/11/20181211083718-94.jpg\" alt=\"X\" height=\"45\" width=\"50\" /></a></td><td scope=\"row\">30131502-02</td><td scope=\"row\"><a href=\"/servlet/XZMOK_STOX_UMGR?template_id=10001&amp;category=30131502&amp;system=sp&amp;product=23518168\" target=\"_blank\" title=\"새창으로 이동\" onclick=\"getProdlist2(this.href); return false;\" class=\"on\">23518168</a></td><td scope=\"row\" class=\"Name bt_All\">콘크리트블록</td><td scope=\"row\" class=\"A_L\">콘크리트호안및옹벽블록, 토지, TJPB190A, 1종식생호안블록, 1000×1000×190mm, 생태블록</td><td scope=\"row\" class=\"A_C\">일반품목</td></tr><tr><td scope=\"row\"><a href=\"/servlet/XZMOK_USER_Image?flag=0&amp;flag_new=1&amp;img=2018/12/10/20181210120131-36.jpg&amp;alttxt=X\" target=\"_blank\" title=\"새창으로 이동\" onclick=\"MM_openBrWindow(this.href, \\'\\', \\'toolbar=no,fullscreen=no,directories=no,status=no,scrollbars=yes,resize=yes,menubar=no,location=no,width=520,height=520\\'); return false;\"><img src=\"http://img.g2b.go.kr:7070/Resource/CataAttach/XezCatalog/XZMOK/item_image/2018/12/10/20181210120131-36.jpg\" alt=\"X\" height=\"45\" width=\"50\" /></a></td><td scope=\"row\">30131502-02</td><td scope=\"row\"><a href=\"/servlet/XZMOK_STOX_UMGR?template_id=10001&amp;category=30131502&amp;system=sp&amp;product=23516576\" target=\"_blank\" title=\"새창으로 이동\" onclick=\"getProdlist2(this.href); return false;\" class=\"on\">23516576</a></td><td scope=\"row\" class=\"Name bt_All\">콘크리트블록</td><td scope=\"row\" class=\"A_L\">콘크리트호안및옹벽블록, 남도산업, NDH200C, 1종보통옹벽블록, 550×450×200mm, 유색</td><td scope=\"row\" class=\"A_C\">일반품목</td></tr><tr><td scope=\"row\"><a href=\"/servlet/XZMOK_USER_Image?flag=0&amp;flag_new=1&amp;img=2018/12/10/20181210112246-60.jpg&amp;alttxt=X\" target=\"_blank\" title=\"새창으로 이동\" onclick=\"MM_openBrWindow(this.href, \\'\\', \\'toolbar=no,fullscreen=no,directories=no,status=no,scrollbars=yes,resize=yes,menubar=no,location=no,width=520,height=520\\'); return false;\"><img src=\"http://img.g2b.go.kr:7070/Resource/CataAttach/XezCatalog/XZMOK/item_image/2018/12/10/20181210112246-60.jpg\" alt=\"X\" height=\"45\" width=\"50\" /></a></td><td scope=\"row\">30131502-02</td><td scope=\"row\"><a href=\"/servlet/XZMOK_STOX_UMGR?template_id=10001&amp;category=30131502&amp;system=sp&amp;product=23516575\" target=\"_blank\" title=\"새창으로 이동\" onclick=\"getProdlist2(this.href); return false;\" class=\"on\">23516575</a></td><td scope=\"row\" class=\"Name bt_All\">콘크리트블록</td><td scope=\"row\" class=\"A_L\">콘크리트호안및옹벽블록, 토지, cap250-2, 1종식생옹벽블록, 500×350×125mm, 마감블록</td><td scope=\"row\" class=\"A_C\">일반품목</td></tr><tr><td scope=\"row\"><a href=\"/servlet/XZMOK_USER_Image?flag=0&amp;flag_new=1&amp;img=2018/12/10/20181210111802-54.jpg&amp;alttxt=X\" target=\"_blank\" title=\"새창으로 이동\" onclick=\"MM_openBrWindow(this.href, \\'\\', \\'toolbar=no,fullscreen=no,directories=no,status=no,scrollbars=yes,resize=yes,menubar=no,location=no,width=520,height=520\\'); return false;\"><img src=\"http://img.g2b.go.kr:7070/Resource/CataAttach/XezCatalog/XZMOK/item_image/2018/12/10/20181210111802-54.jpg\" alt=\"X\" height=\"45\" width=\"50\" /></a></td><td scope=\"row\">30131502-02</td><td scope=\"row\"><a href=\"/servlet/XZMOK_STOX_UMGR?template_id=10001&amp;category=30131502&amp;system=sp&amp;product=23516574\" target=\"_blank\" title=\"새창으로 이동\" onclick=\"getProdlist2(this.href); return false;\" class=\"on\">23516574</a></td><td scope=\"row\" class=\"Name bt_All\">콘크리트블록</td><td scope=\"row\" class=\"A_L\">콘크리트호안및옹벽블록, 토지, cap250-1, 1종식생옹벽블록, 500×400×100mm, 마감블록</td><td scope=\"row\" class=\"A_C\">일반품목</td></tr><tr><td scope=\"row\"><a href=\"/servlet/XZMOK_USER_Image?flag=0&amp;flag_new=1&amp;img=2018/12/06/20181206181232-56.jpg&amp;alttxt=X\" target=\"_blank\" title=\"새창으로 이동\" onclick=\"MM_openBrWindow(this.href, \\'\\', \\'toolbar=no,fullscreen=no,directories=no,status=no,scrollbars=yes,resize=yes,menubar=no,location=no,width=520,height=520\\'); return false;\"><img src=\"http://img.g2b.go.kr:7070/Resource/CataAttach/XezCatalog/XZMOK/item_image/2018/12/06/20181206181232-56.jpg\" alt=\"X\" height=\"45\" width=\"50\" /></a></td><td scope=\"row\">30131502-02</td><td scope=\"row\"><a href=\"/servlet/XZMOK_STOX_UMGR?template_id=10001&amp;category=30131502&amp;system=sp&amp;product=23516565\" target=\"_blank\" title=\"새창으로 이동\" onclick=\"getProdlist2(this.href); return false;\" class=\"on\">23516565</a></td><td scope=\"row\" class=\"Name bt_All\">콘크리트블록</td><td scope=\"row\" class=\"A_L\">콘크리트호안및옹벽블록, 토지, TJL150CP-1, 1종식생호안블록, 996×298×150mm, 잔디블록150CP-1</td><td scope=\"row\" class=\"A_C\">일반품목</td></tr><tr><td scope=\"row\"><a href=\"/servlet/XZMOK_USER_Image?flag=0&amp;flag_new=1&amp;img=2018/12/11/20181211164432-59.jpg&amp;alttxt=X\" target=\"_blank\" title=\"새창으로 이동\" onclick=\"MM_openBrWindow(this.href, \\'\\', \\'toolbar=no,fullscreen=no,directories=no,status=no,scrollbars=yes,resize=yes,menubar=no,location=no,width=520,height=520\\'); return false;\"><img src=\"http://img.g2b.go.kr:7070/Resource/CataAttach/XezCatalog/XZMOK/item_image/2018/12/11/20181211164432-59.jpg\" alt=\"X\" height=\"45\" width=\"50\" /></a></td><td scope=\"row\">30131502-02</td><td scope=\"row\"><a href=\"/servlet/XZMOK_STOX_UMGR?template_id=10001&amp;category=30131502&amp;system=sp&amp;product=23516522\" target=\"_blank\" title=\"새창으로 이동\" onclick=\"getProdlist2(this.href); return false;\" class=\"on\">23516522</a></td><td scope=\"row\" class=\"Name bt_All\">콘크리트블록</td><td scope=\"row\" class=\"A_L\">콘크리트호안및옹벽블록, 해리콘크리트, H-36, 1종식생옹벽블록, 1000×500×250mm</td><td scope=\"row\" class=\"A_C\">일반품목</td></tr><tr><td scope=\"row\"><a href=\"/servlet/XZMOK_USER_Image?flag=0&amp;flag_new=1&amp;img=2018/12/07/20181207090303-53.jpg&amp;alttxt=X\" target=\"_blank\" title=\"새창으로 이동\" onclick=\"MM_openBrWindow(this.href, \\'\\', \\'toolbar=no,fullscreen=no,directories=no,status=no,scrollbars=yes,resize=yes,menubar=no,location=no,width=520,height=520\\'); return false;\"><img src=\"http://img.g2b.go.kr:7070/Resource/CataAttach/XezCatalog/XZMOK/item_image/2018/12/07/20181207090303-53.jpg\" alt=\"X\" height=\"45\" width=\"50\" /></a></td><td scope=\"row\">30131502-02</td><td scope=\"row\"><a href=\"/servlet/XZMOK_STOX_UMGR?template_id=10001&amp;category=30131502&amp;system=sp&amp;product=23516215\" target=\"_blank\" title=\"새창으로 이동\" onclick=\"getProdlist2(this.href); return false;\" class=\"on\">23516215</a></td><td scope=\"row\" class=\"Name bt_All\">콘크리트블록</td><td scope=\"row\" class=\"A_L\">콘크리트호안및옹벽블록, 엑스콘, xcon-108, 1종보통옹벽블록, 210×290×75mm, 가든마감블록</td><td scope=\"row\" class=\"A_C\">일반품목</td></tr><tr><td scope=\"row\"><a href=\"/servlet/XZMOK_USER_Image?flag=0&amp;flag_new=1&amp;img=2018/11/29/20181129165434-32.jpg&amp;alttxt=X\" target=\"_blank\" title=\"새창으로 이동\" onclick=\"MM_openBrWindow(this.href, \\'\\', \\'toolbar=no,fullscreen=no,directories=no,status=no,scrollbars=yes,resize=yes,menubar=no,location=no,width=520,height=520\\'); return false;\"><img src=\"http://img.g2b.go.kr:7070/Resource/CataAttach/XezCatalog/XZMOK/item_image/2018/11/29/20181129165434-32.jpg\" alt=\"X\" height=\"45\" width=\"50\" /></a></td><td scope=\"row\">30131502-02</td><td scope=\"row\"><a href=\"/servlet/XZMOK_STOX_UMGR?template_id=10001&amp;category=30131502&amp;system=sp&amp;product=23516189\" target=\"_blank\" title=\"새창으로 이동\" onclick=\"getProdlist2(this.href); return false;\" class=\"on\">23516189</a></td><td scope=\"row\" class=\"Name bt_All\">콘크리트블록</td><td scope=\"row\" class=\"A_L\">콘크리트호안및옹벽블록, 그랜드코단, GKHM2-2, 2종식생호안블록, 1000×1000×250mm, 미생물법면블록, 250A형</td><td scope=\"row\" class=\"A_C\">일반품목</td></tr></tbody></table><div class=\"page\"> [<span class=\"Select\"><strong>1</strong></span>] \\n [<a href=\"/servlet/sub02/XZMOK_SMOK_MListView?ischks=N&amp;system=sp&amp;cmd=&amp;cate_id=&amp;CATE_ID=30131502&amp;PROD_ID=&amp;CATE_NAME=&amp;CERT_CODE=&amp;CATE_NAME_EN=&amp;KN_KNCDNAME=&amp;GB_KNCD=&amp;sort1=&amp;sort2=&amp;page_size=x3oQQBDo_gO8dzdFYsllyw==&amp;tot=33343isSearch=Y&amp;pg_no=_VjIvpMrTFDjzXIAEH0JSw==\" onclick=\"move_page(\\'_VjIvpMrTFDjzXIAEH0JSw==\\'); return false;\">2</a>] \\n [<a href=\"/servlet/sub02/XZMOK_SMOK_MListView?ischks=N&amp;system=sp&amp;cmd=&amp;cate_id=&amp;CATE_ID=30131502&amp;PROD_ID=&amp;CATE_NAME=&amp;CERT_CODE=&amp;CATE_NAME_EN=&amp;KN_KNCDNAME=&amp;GB_KNCD=&amp;sort1=&amp;sort2=&amp;page_size=x3oQQBDo_gO8dzdFYsllyw==&amp;tot=33343isSearch=Y&amp;pg_no=PBOYi45Ps4hnhwg~wmWxOg==\" onclick=\"move_page(\\'PBOYi45Ps4hnhwg~wmWxOg==\\'); return false;\">3</a>] \\n [<a href=\"/servlet/sub02/XZMOK_SMOK_MListView?ischks=N&amp;system=sp&amp;cmd=&amp;cate_id=&amp;CATE_ID=30131502&amp;PROD_ID=&amp;CATE_NAME=&amp;CERT_CODE=&amp;CATE_NAME_EN=&amp;KN_KNCDNAME=&amp;GB_KNCD=&amp;sort1=&amp;sort2=&amp;page_size=x3oQQBDo_gO8dzdFYsllyw==&amp;tot=33343isSearch=Y&amp;pg_no=7Q4uDFEQzhbn1LzUh1bmBQ==\" onclick=\"move_page(\\'7Q4uDFEQzhbn1LzUh1bmBQ==\\'); return false;\">4</a>] \\n [<a href=\"/servlet/sub02/XZMOK_SMOK_MListView?ischks=N&amp;system=sp&amp;cmd=&amp;cate_id=&amp;CATE_ID=30131502&amp;PROD_ID=&amp;CATE_NAME=&amp;CERT_CODE=&amp;CATE_NAME_EN=&amp;KN_KNCDNAME=&amp;GB_KNCD=&amp;sort1=&amp;sort2=&amp;page_size=x3oQQBDo_gO8dzdFYsllyw==&amp;tot=33343isSearch=Y&amp;pg_no=D3exl7Ic8GNvphclXQeRig==\" onclick=\"move_page(\\'D3exl7Ic8GNvphclXQeRig==\\'); return false;\">5</a>] \\n [<a href=\"/servlet/sub02/XZMOK_SMOK_MListView?ischks=N&amp;system=sp&amp;cmd=&amp;cate_id=&amp;CATE_ID=30131502&amp;PROD_ID=&amp;CATE_NAME=&amp;CERT_CODE=&amp;CATE_NAME_EN=&amp;KN_KNCDNAME=&amp;GB_KNCD=&amp;sort1=&amp;sort2=&amp;page_size=x3oQQBDo_gO8dzdFYsllyw==&amp;tot=33343isSearch=Y&amp;pg_no=9R0qu7v55ZeXHdU0rl2g8g==\" onclick=\"move_page(\\'9R0qu7v55ZeXHdU0rl2g8g==\\'); return false;\">6</a>] \\n [<a href=\"/servlet/sub02/XZMOK_SMOK_MListView?ischks=N&amp;system=sp&amp;cmd=&amp;cate_id=&amp;CATE_ID=30131502&amp;PROD_ID=&amp;CATE_NAME=&amp;CERT_CODE=&amp;CATE_NAME_EN=&amp;KN_KNCDNAME=&amp;GB_KNCD=&amp;sort1=&amp;sort2=&amp;page_size=x3oQQBDo_gO8dzdFYsllyw==&amp;tot=33343isSearch=Y&amp;pg_no=9~aIPnXuCRMABrJzw5vx~g==\" onclick=\"move_page(\\'9~aIPnXuCRMABrJzw5vx~g==\\'); return false;\">7</a>] \\n [<a href=\"/servlet/sub02/XZMOK_SMOK_MListView?ischks=N&amp;system=sp&amp;cmd=&amp;cate_id=&amp;CATE_ID=30131502&amp;PROD_ID=&amp;CATE_NAME=&amp;CERT_CODE=&amp;CATE_NAME_EN=&amp;KN_KNCDNAME=&amp;GB_KNCD=&amp;sort1=&amp;sort2=&amp;page_size=x3oQQBDo_gO8dzdFYsllyw==&amp;tot=33343isSearch=Y&amp;pg_no=0Xvmi9AI7cZEvNPElifMMA==\" onclick=\"move_page(\\'0Xvmi9AI7cZEvNPElifMMA==\\'); return false;\">8</a>] \\n [<a href=\"/servlet/sub02/XZMOK_SMOK_MListView?ischks=N&amp;system=sp&amp;cmd=&amp;cate_id=&amp;CATE_ID=30131502&amp;PROD_ID=&amp;CATE_NAME=&amp;CERT_CODE=&amp;CATE_NAME_EN=&amp;KN_KNCDNAME=&amp;GB_KNCD=&amp;sort1=&amp;sort2=&amp;page_size=x3oQQBDo_gO8dzdFYsllyw==&amp;tot=33343isSearch=Y&amp;pg_no=4CJLT8qVJPBzGNVlLvHtCQ==\" onclick=\"move_page(\\'4CJLT8qVJPBzGNVlLvHtCQ==\\'); return false;\">9</a>] \\n [<a href=\"/servlet/sub02/XZMOK_SMOK_MListView?ischks=N&amp;system=sp&amp;cmd=&amp;cate_id=&amp;CATE_ID=30131502&amp;PROD_ID=&amp;CATE_NAME=&amp;CERT_CODE=&amp;CATE_NAME_EN=&amp;KN_KNCDNAME=&amp;GB_KNCD=&amp;sort1=&amp;sort2=&amp;page_size=x3oQQBDo_gO8dzdFYsllyw==&amp;tot=33343isSearch=Y&amp;pg_no=x3oQQBDo_gO8dzdFYsllyw==\" onclick=\"move_page(\\'x3oQQBDo_gO8dzdFYsllyw==\\'); return false;\">10</a>] \\n<a href=\"/servlet/sub02/XZMOK_SMOK_MListView?ischks=N&amp;system=sp&amp;cmd=&amp;cate_id=&amp;CATE_ID=30131502&amp;PROD_ID=&amp;CATE_NAME=&amp;CERT_CODE=&amp;CATE_NAME_EN=&amp;KN_KNCDNAME=&amp;GB_KNCD=&amp;sort1=&amp;sort2=&amp;page_size=x3oQQBDo_gO8dzdFYsllyw==&amp;tot=33343isSearch=Y&amp;pg_no=iyobOkLHA0MXAfJ0YGv_kA==\" onclick=\"move_page(\\'iyobOkLHA0MXAfJ0YGv_kA==\\'); return false;\">[다음]</a>\\n<a href=\"/servlet/sub02/XZMOK_SMOK_MListView?ischks=N&amp;system=sp&amp;cmd=&amp;cate_id=&amp;CATE_ID=30131502&amp;PROD_ID=&amp;CATE_NAME=&amp;CERT_CODE=&amp;CATE_NAME_EN=&amp;KN_KNCDNAME=&amp;GB_KNCD=&amp;sort1=&amp;sort2=&amp;page_size=x3oQQBDo_gO8dzdFYsllyw==&amp;tot=33343isSearch=Y&amp;pg_no=LCCAwmcw9cOAABc9RAzj0w==\" onclick=\"move_page(\\'LCCAwmcw9cOAABc9RAzj0w==\\'); return false;\">[끝]</a>\\n</div><input type=\"hidden\" name=\"tot\" value=\"33343\" />\\n\\n\\n</form>\\n<!-- <script type=\"text/javascript\">loading.style.display = \\'none\\';</script>   -->\\n      </div>\\n     \\t<!--content 영역 끝-->\\n    \\t</div>\\n  \\t\\t<!--container 영역 끝-->\\n\\n\\t\\t<!-- 퀵메뉴 -->\\n\\t    <div id=\"qiuck\" style=\"left: 0px; top: 170px;\"><a href=\"#header\"><img src=\"/images/new_sub/quick04.gif\" alt=\"상위로\" /></a></div>\\n\\t\\t<script type=\"text/javascript\" src=\"/js/layer.js\"></script><!--noscript>이 브라우저는 javascript를 지원하지 않습니다.</noscript-->\\n\\t\\t<script type=\"text/javascript\">JSFX_FloatDiv(\"qiuck\",0,170).floatIt();</script> <!--noscript>이 브라우저는 javascript를 지원하지 않습니다.</noscript-->\\n\\t\\t<!--//퀵메뉴-->\\n\\n\\n\\n  \\t\\t<!--footer 영역 시작-->\\n\\t\\t<div id=\"footerArea\">\\n        \\t\\n\\n<form action=\"http://www.g2b.go.kr:8100/common/siteLink.jsp\" target=\"_blank\" method=\"get\">\\n<h3 class=\"blind\">관련사이트</h3>\\n<ul class=\"connecSite\">\\n    <li><a href=\"http://www.pps.go.kr/kor/jsp/guide/personal_info.jsp\" target=\"_blank\" onclick=\"window.open(this.href, \\'pp\\', \\'top=0, left=0, width=860, height=613, scrollbars=yes\\'); return false;\" title=\"새창으로 이동\"><b>개인정보보호방침</b></a> |</li>\\n<!--     <li><a href=\"http://www.g2b.go.kr/gov/koneps/pt/policy/privacyPolicy.html\" target=\"_blank\" onclick=\"window.open(this.href, \\'pp\\', \\'top=0, left=0, width=860, height=613, scrollbars=yes\\'); return false;\" title=\"새창으로 이동\"><b>개인정보보호방침</b></a> |</li> -->\\n  <!--<li><a href=\"http://www.g2b.go.kr/customer/article.htm\" target=\"_blank\" onclick=\"window.open(this.href, \\'pp\\', \\'top=0, left=0, width=800, height=613, scrollbars=no\\'); return false;\" title=\"새창으로 이동\">이용약관</a> |</li> 20140326(ysc)-->\\n    <li>\\n    <label for=\"siteLink\">관련사이트 바로가기</label>\\n    <select name=\"siteLink\" id=\"siteLink\" title=\"관련사이트 바로가기\">\\n    <option value=\"http://www.pps.go.kr\">조달청</option>\\n    <option value=\"http://www.g2b.go.kr/\">나라장터</option>\\n    <option value=\"http://shopping.g2b.go.kr/\">종합쇼핑몰</option>\\n   <!-- <option value=\"http://www.g2b.go.kr/call/\">전자조달콜센터</option> 20140326(ysc)-->\\n    </select>\\n    <input type=\"image\" id=\"gobt\" src=\"/images/new_main/link_site_submit.gif\" alt=\"이동\" title=\"새창으로 이동\" class=\"go\" />\\n    </li>\\n</ul>\\n</form>\\n<h3 class=\"blind\">관리자바로가기</h3>\\n\\n\\n\\n<!-- \\n<li><a href=\"http://www.g2b.go.kr:8097/common/login_error.jsp?msg_gb=ontad\"><img src=\"/images/new_main/ft_menu_01.gif\" alt=\"온톨리지관리자\" /></a></li>\\n -->\\n\\n\\n<!-- \\n<li><a href=\"http://www.g2b.go.kr:8097/common/login_error.jsp?msg_gb=mfad\"><img src=\"/images/new_main/ft_menu_02.gif\" alt=\"제조업체관리자\" /></a></li>\\n -->\\n\\n\\n<!-- \\n<li><a href=\"http://www.g2b.go.kr:8097/common/login_error.jsp?msg_gb=pmsad\"><img src=\"/images/new_main/ft_menu_03.gif\" alt=\"상품정보관리자\" /></a></li>\\n-->\\n\\n\\n\\n<!-- \\n<li class=\"last\"><a href=\"http://www.g2b.go.kr:8097/common/login_error.jsp?retmokurl=http://www.g2b.go.kr:8100/index.jsp\"><img src=\"/images/new_main/ft_menu_04.gif\" alt=\"운영자\" /></a></li>\\n -->\\n\\n<!--\\n<ul class=\"warmark\">\\n<li><a href=\"http://www.g2b.go.kr:8100/contents/wcag0.jsp?lefttab=wcagmark\" ><img alt=\"웹접근성 품질마크\" src=\"/images/new_main/warmark_s.jpg\" /> </a></li>\\n</ul>\\n-->\\n\\n<ul class=\"copyRight\">\\n <li>\\xa0\\xa0\\xa0\\xa0\\xa0\\xa0\\xa0\\xa0\\xa0\\xa0\\xa0\\xa0\\xa035208 대전광역시 서구 청사로 189(둔산동 920) 정부대전청사 3동</li>\\n <li>\\xa0\\xa0\\xa0\\xa0\\xa0\\xa0\\xa0\\xa0\\xa0\\xa0\\xa0\\xa0\\xa0Copyright 2002. Public Procurement Service. All Rights Reserved.</li>\\n</ul>\\n\\n\\t\\t</div>\\n\\t\\t<!--footer 영역 끝-->\\n</div>\\n\\n</body></html>'"
      ]
     },
     "execution_count": 29,
     "metadata": {},
     "output_type": "execute_result"
    }
   ],
   "source": [
    "html"
   ]
  },
  {
   "cell_type": "code",
   "execution_count": 4,
   "metadata": {},
   "outputs": [],
   "source": [
    "prefix = 'http://www.g2b.go.kr:8097/servlet/sub02/XZMOK_SMOK_MListView'\n",
    "category = '23518750'\n",
    "url = prefix + product\n",
    "response = requests.get(url)"
   ]
  },
  {
   "cell_type": "code",
   "execution_count": 5,
   "metadata": {},
   "outputs": [
    {
     "data": {
      "text/plain": [
       "<Response [200]>"
      ]
     },
     "execution_count": 5,
     "metadata": {},
     "output_type": "execute_result"
    }
   ],
   "source": [
    "response"
   ]
  },
  {
   "cell_type": "code",
   "execution_count": 6,
   "metadata": {},
   "outputs": [
    {
     "data": {
      "text/plain": [
       "'<!DOCTYPE html PUBLIC \"-//W3C//DTD XHTML 1.0 Transitional//EN\" \"http://www.w3.org/TR/xhtml1/DTD/xhtml1-transitional.dtd\">\\n<!--  2010.10.08 임동섭 운영소스 Sync -->\\n<html xmlns=\"http://www.w3.org/1999/xhtml\" lang=\"ko\" xml:lang=\"ko\">\\n<head>\\n<meta http-equiv=\"Content-Type\" content=\"text/html; charset=euc-kr\" />\\n<title>품목조회 | 목록정보시스템</title>\\n<link rel=\"stylesheet\" type=\"text/css\" href=\"/css/sub.css\" />\\n<!--[if lte IE 6]><body class=\"ie ie6\"><![endif]-->\\n<!--[if lte IE 7]><body class=\"ie ie7\"><![endif]-->\\n\\n<script type=\"text/javascript\">\\n//<![CDATA[\\n<!--   05.0.19  이미지 변경기능 추가 부문  -->\\n\\nvar photos=new Array();var photos_new=new Array();var number=0;var which=0;photos[1]=\\'http://img.g2b.go.kr:7070/Resource/CataAttach/XezCatalog/XZMOK/item_image/2018/12/06/20181206171632-47.jpg\\';photos_new[1]=\\'2018/12/06/20181206171632-47.jpg\\';photos[2]=\\'http://img.g2b.go.kr:7070/Resource/CataAttach/XezCatalog/XZMOK/item_image/\\';photos_new[2]=\\'\\';photos[3]=\\'http://img.g2b.go.kr:7070/Resource/CataAttach/XezCatalog/XZMOK/item_image/\\';photos_new[3]=\\'\\';photos[4]=\\'http://img.g2b.go.kr:7070/Resource/CataAttach/XezCatalog/XZMOK/item_image/\\';photos_new[4]=\\'\\';\\n\\n\\n\\n//봉.   국가재고번호 출력시 방위사업청 목록정보 조회 기능을 위해 링크연결관련 추가   2008.07.16 성봉철\\n\\tfunction goMok(num){\\n\\n\\t\\tvar txtNiin;\\n\\t\\tvar txtNiin_A;\\n\\t\\tvar txtNiin_B;\\n\\t\\tvar txtNiin1;\\n\\t\\tvar txtNiin2;\\n\\t\\tvar txtNiin3;\\n\\t\\tvar url;\\n\\n\\t\\ttxtNiin_A=num.substring(4,6);\\n\\t\\ttxtNiin_B=num.substring(6,13);\\n\\t\\ttxtNiin1=num.substring(4,6);\\n\\t\\ttxtNiin2=num.substring(6,9);\\n\\t\\ttxtNiin3=num.substring(9,13);\\n\\t\\ttxtNiin = txtNiin_A + \"-\" + txtNiin_B;\\n\\t\\t//alert(num+\"\\\\n txtNiin_A=>\"+txtNiin_A+\"\\\\n txtNiin_B=>\"+txtNiin_B+\"\\\\n txtNiin1=>\"+txtNiin1+\"\\\\n txtNiin2=>\"+txtNiin2+\"\\\\n txtNiin3=>\"+txtNiin3);\\n\\n\\t\\tif(num.length!=13){\\n\\t\\t\\talert(\"해당 국가재고번호는 잘못된 국가재고번호 입니다.\\\\n\\\\n따라서 해당 번호에 대한 군수목록형상정보를 확인하실 수 없음을 알려드립니다.\");\\n\\t\\t}else{\\n\\t\\t\\turl = \"http://www.d2b.go.kr/Internet/jsp/epi/HI_LMS_MilListView_Inf.jsp?type=sp&txtNiin=\"+txtNiin+\"&txtNiin1=\"+txtNiin1+\"&txtNiin2=\"+txtNiin2+\"&txtNiin3=\"+txtNiin3;\\n\\t\\t\\twindow.open(url,\"국방전자조달\",\"\")'"
      ]
     },
     "execution_count": 6,
     "metadata": {},
     "output_type": "execute_result"
    }
   ],
   "source": [
    "response.text[:2000]"
   ]
  },
  {
   "cell_type": "code",
   "execution_count": 30,
   "metadata": {},
   "outputs": [],
   "source": [
    "soup = BeautifulSoup(html,'lxml')"
   ]
  },
  {
   "cell_type": "code",
   "execution_count": 36,
   "metadata": {},
   "outputs": [],
   "source": [
    "trs = soup.find('table',attrs={'class':'tb02'}).tbody.find_all('tr')"
   ]
  },
  {
   "cell_type": "code",
   "execution_count": 51,
   "metadata": {},
   "outputs": [],
   "source": [
    "image_url_prefix = 'http://www.g2b.go.kr:8097/'"
   ]
  },
  {
   "cell_type": "code",
   "execution_count": 91,
   "metadata": {},
   "outputs": [],
   "source": [
    "product_dict = dict()\n",
    "\n",
    "for tr,i in zip(trs,range(len(tds))):\n",
    "    product_image = image_url_prefix + tr.find_all('td')[0].a['href']\n",
    "    category_subno = tr.find_all('td')[1].text\n",
    "    product_no = tr.find_all('td')[2].text\n",
    "    category_name = tr.find_all('td')[3].text\n",
    "    product_name = tr.find_all('td')[4].text\n",
    "    product_type = tr.find_all('td')[5].text\n",
    "    product_dict[product_no]=dict([(name,eval(name)) for name in \n",
    "                                   [\"product_image\",\"category_subno\",\"category_name\",\"product_name\",\"product_type\"]])\n"
   ]
  },
  {
   "cell_type": "code",
   "execution_count": 92,
   "metadata": {},
   "outputs": [
    {
     "data": {
      "text/plain": [
       "{'23518750': {'product_image': 'http://www.g2b.go.kr:8097//servlet/XZMOK_USER_Image?flag=0&flag_new=1&img=2018/12/06/20181206171632-47.jpg&alttxt=X',\n",
       "  'category_subno': '30131502-02',\n",
       "  'category_name': '콘크리트블록',\n",
       "  'product_name': '콘크리트호안및옹벽블록, 경북산업, kconBWK-1-2, 1종식생옹벽블록, 1000×500×650mm, BWK생태블록',\n",
       "  'product_type': '일반품목'},\n",
       " '23518169': {'product_image': 'http://www.g2b.go.kr:8097//servlet/XZMOK_USER_Image?flag=0&flag_new=1&img=2018/12/11/20181211083940-96.jpg&alttxt=X',\n",
       "  'category_subno': '30131502-02',\n",
       "  'category_name': '콘크리트블록',\n",
       "  'product_name': '콘크리트호안및옹벽블록, 토지, TJPB220A, 1종식생호안블록, 1000×1000×220mm, 생태블록',\n",
       "  'product_type': '일반품목'},\n",
       " '23518168': {'product_image': 'http://www.g2b.go.kr:8097//servlet/XZMOK_USER_Image?flag=0&flag_new=1&img=2018/12/11/20181211083718-94.jpg&alttxt=X',\n",
       "  'category_subno': '30131502-02',\n",
       "  'category_name': '콘크리트블록',\n",
       "  'product_name': '콘크리트호안및옹벽블록, 토지, TJPB190A, 1종식생호안블록, 1000×1000×190mm, 생태블록',\n",
       "  'product_type': '일반품목'},\n",
       " '23516576': {'product_image': 'http://www.g2b.go.kr:8097//servlet/XZMOK_USER_Image?flag=0&flag_new=1&img=2018/12/10/20181210120131-36.jpg&alttxt=X',\n",
       "  'category_subno': '30131502-02',\n",
       "  'category_name': '콘크리트블록',\n",
       "  'product_name': '콘크리트호안및옹벽블록, 남도산업, NDH200C, 1종보통옹벽블록, 550×450×200mm, 유색',\n",
       "  'product_type': '일반품목'},\n",
       " '23516575': {'product_image': 'http://www.g2b.go.kr:8097//servlet/XZMOK_USER_Image?flag=0&flag_new=1&img=2018/12/10/20181210112246-60.jpg&alttxt=X',\n",
       "  'category_subno': '30131502-02',\n",
       "  'category_name': '콘크리트블록',\n",
       "  'product_name': '콘크리트호안및옹벽블록, 토지, cap250-2, 1종식생옹벽블록, 500×350×125mm, 마감블록',\n",
       "  'product_type': '일반품목'},\n",
       " '23516574': {'product_image': 'http://www.g2b.go.kr:8097//servlet/XZMOK_USER_Image?flag=0&flag_new=1&img=2018/12/10/20181210111802-54.jpg&alttxt=X',\n",
       "  'category_subno': '30131502-02',\n",
       "  'category_name': '콘크리트블록',\n",
       "  'product_name': '콘크리트호안및옹벽블록, 토지, cap250-1, 1종식생옹벽블록, 500×400×100mm, 마감블록',\n",
       "  'product_type': '일반품목'}}"
      ]
     },
     "execution_count": 92,
     "metadata": {},
     "output_type": "execute_result"
    }
   ],
   "source": [
    "product_dict"
   ]
  },
  {
   "cell_type": "code",
   "execution_count": 85,
   "metadata": {},
   "outputs": [
    {
     "data": {
      "text/plain": [
       "'30131502-02'"
      ]
     },
     "execution_count": 85,
     "metadata": {},
     "output_type": "execute_result"
    }
   ],
   "source": [
    "tds = trs[0].find_all('td')\n",
    "tds[1].text"
   ]
  },
  {
   "cell_type": "code",
   "execution_count": 68,
   "metadata": {},
   "outputs": [
    {
     "data": {
      "text/plain": [
       "'30131502-02'"
      ]
     },
     "execution_count": 68,
     "metadata": {},
     "output_type": "execute_result"
    }
   ],
   "source": [
    "trs[0].find_all('td')[0].a['href']\n",
    "trs[0].find_all('td')[1].text"
   ]
  },
  {
   "cell_type": "code",
   "execution_count": 78,
   "metadata": {},
   "outputs": [
    {
     "data": {
      "text/plain": [
       "[<td scope=\"row\"><a href=\"/servlet/XZMOK_USER_Image?flag=0&amp;flag_new=1&amp;img=2018/12/06/20181206171632-47.jpg&amp;alttxt=X\" onclick=\"MM_openBrWindow(this.href, '', 'toolbar=no,fullscreen=no,directories=no,status=no,scrollbars=yes,resize=yes,menubar=no,location=no,width=520,height=520'); return false;\" target=\"_blank\" title=\"새창으로 이동\"><img alt=\"X\" height=\"45\" src=\"http://img.g2b.go.kr:7070/Resource/CataAttach/XezCatalog/XZMOK/item_image/2018/12/06/20181206171632-47.jpg\" width=\"50\"/></a></td>,\n",
       " <td scope=\"row\">30131502-02</td>,\n",
       " <td scope=\"row\"><a class=\"on\" href=\"/servlet/XZMOK_STOX_UMGR?template_id=10001&amp;category=30131502&amp;system=sp&amp;product=23518750\" onclick=\"getProdlist2(this.href); return false;\" target=\"_blank\" title=\"새창으로 이동\">23518750</a></td>,\n",
       " <td class=\"Name bt_All\" scope=\"row\">콘크리트블록</td>,\n",
       " <td class=\"A_L\" scope=\"row\">콘크리트호안및옹벽블록, 경북산업, kconBWK-1-2, 1종식생옹벽블록, 1000×500×650mm, BWK생태블록</td>,\n",
       " <td class=\"A_C\" scope=\"row\">일반품목</td>]"
      ]
     },
     "execution_count": 78,
     "metadata": {},
     "output_type": "execute_result"
    }
   ],
   "source": [
    "tds = trs[0].find_all('td')\n",
    "tds"
   ]
  },
  {
   "cell_type": "code",
   "execution_count": 46,
   "metadata": {},
   "outputs": [
    {
     "data": {
      "text/plain": [
       "'30131502-02'"
      ]
     },
     "execution_count": 46,
     "metadata": {},
     "output_type": "execute_result"
    }
   ],
   "source": [
    "trs[0].find_all('td')[1].text"
   ]
  },
  {
   "cell_type": "code",
   "execution_count": 47,
   "metadata": {},
   "outputs": [
    {
     "data": {
      "text/plain": [
       "'23518750'"
      ]
     },
     "execution_count": 47,
     "metadata": {},
     "output_type": "execute_result"
    }
   ],
   "source": [
    "trs[0].find_all('td')[2].text"
   ]
  },
  {
   "cell_type": "code",
   "execution_count": 48,
   "metadata": {},
   "outputs": [
    {
     "data": {
      "text/plain": [
       "'콘크리트블록'"
      ]
     },
     "execution_count": 48,
     "metadata": {},
     "output_type": "execute_result"
    }
   ],
   "source": [
    "trs[0].find_all('td')[3].text"
   ]
  },
  {
   "cell_type": "code",
   "execution_count": 49,
   "metadata": {},
   "outputs": [
    {
     "data": {
      "text/plain": [
       "'콘크리트호안및옹벽블록, 경북산업, kconBWK-1-2, 1종식생옹벽블록, 1000×500×650mm, BWK생태블록'"
      ]
     },
     "execution_count": 49,
     "metadata": {},
     "output_type": "execute_result"
    }
   ],
   "source": [
    "trs[0].find_all('td')[4].text"
   ]
  },
  {
   "cell_type": "code",
   "execution_count": 50,
   "metadata": {},
   "outputs": [
    {
     "data": {
      "text/plain": [
       "'일반품목'"
      ]
     },
     "execution_count": 50,
     "metadata": {},
     "output_type": "execute_result"
    }
   ],
   "source": [
    "trs[0].find_all('td')[5].text"
   ]
  },
  {
   "cell_type": "code",
   "execution_count": null,
   "metadata": {},
   "outputs": [],
   "source": []
  }
 ],
 "metadata": {
  "kernelspec": {
   "display_name": "Python 3",
   "language": "python",
   "name": "python3"
  },
  "language_info": {
   "codemirror_mode": {
    "name": "ipython",
    "version": 3
   },
   "file_extension": ".py",
   "mimetype": "text/x-python",
   "name": "python",
   "nbconvert_exporter": "python",
   "pygments_lexer": "ipython3",
   "version": "3.7.1"
  }
 },
 "nbformat": 4,
 "nbformat_minor": 2
}
