{
 "cells": [
  {
   "cell_type": "code",
   "execution_count": 43,
   "metadata": {},
   "outputs": [],
   "source": [
    "import requests\n",
    "from bs4 import BeautifulSoup\n",
    "#import selenium\n",
    "from selenium import webdriver\n",
    "import time\n",
    "from datetime import datetime"
   ]
  },
  {
   "cell_type": "code",
   "execution_count": 2,
   "metadata": {},
   "outputs": [],
   "source": [
    "ch_driver = webdriver.Chrome('C:\\\\Python37\\\\chromedriver.exe')"
   ]
  },
  {
   "cell_type": "code",
   "execution_count": 3,
   "metadata": {},
   "outputs": [],
   "source": [
    "ch_driver.get('http://www.seoul.go.kr/main/index.jsp')"
   ]
  },
  {
   "cell_type": "code",
   "execution_count": 4,
   "metadata": {},
   "outputs": [],
   "source": [
    "link = ch_driver.find_element_by_link_text('전체보기')\n",
    "link.click()\n"
   ]
  },
  {
   "cell_type": "code",
   "execution_count": 35,
   "metadata": {},
   "outputs": [],
   "source": [
    "news_dict = dict()"
   ]
  },
  {
   "cell_type": "code",
   "execution_count": 36,
   "metadata": {},
   "outputs": [],
   "source": [
    "for i in range(1,10+1):\n",
    "    fnpage = 'javascript:fnPagingMove(' + str(i) + ');'\n",
    "    ch_driver.execute_script(fnpage)\n",
    "    time.sleep(5)\n",
    "    items = ch_driver.find_elements_by_class_name('item')\n",
    "\n",
    "    for item in items:\n",
    "        news_id = item.find_element_by_class_name('subject').text[1:6]\n",
    "        news_subject = item.find_element_by_class_name('subject').text[7:].strip(' ')\n",
    "        news_link = item.find_element_by_tag_name('a').get_attribute('href')\n",
    "        news_update_dt = item.find_element_by_class_name('date').text[:19]\n",
    "        news_category = item.find_element_by_class_name('date').text[20:].strip('[]')\n",
    "        news_txt = item.find_element_by_class_name('txt').text.replace('\\n','')\n",
    "        news_dict[news_id]= dict([(name,eval(name)) for name in \n",
    "                                  [\"news_subject\",\"news_link\",\"news_update_dt\",\"news_category\",\"news_txt\"]])   \n",
    "        "
   ]
  },
  {
   "cell_type": "code",
   "execution_count": 38,
   "metadata": {},
   "outputs": [
    {
     "data": {
      "text/plain": [
       "{'news_subject': '2018년 월별 문화예술프로그램(12월호)',\n",
       " 'news_link': 'http://news.seoul.go.kr/culture/archives/10128',\n",
       " 'news_update_dt': '2018-11-30 17:20:38',\n",
       " 'news_category': '문화',\n",
       " 'news_txt': '12월 <서울시 문화예술프로그램>으로 문화생활을 누리세요!•[공연] 2018 송년뮤지컬갈라 <폴 인 케이-뮤지컬스!〉 <세종문화회관>•[공연] 서울시뮤지컬단 송년가족뮤지컬 애니 <세종문화회관>•[공연] 티에리 피셔의 합창+ <서울시립교향악단>•[공연] 음악극 <적로> <서울돈화문국악당>•[전시] <한국현대미술대가-한묵-또 하나의 시(詩)질서를 위하여> <서울시립미술관>•[전시] 딜쿠샤와 호박목걸이 <서울역사박물관>•[전시] 서울의 하루2 멍멍도시탐사대 <시민청>'}"
      ]
     },
     "execution_count": 38,
     "metadata": {},
     "output_type": "execute_result"
    }
   ],
   "source": [
    "news_dict['20654']"
   ]
  },
  {
   "cell_type": "code",
   "execution_count": 33,
   "metadata": {},
   "outputs": [
    {
     "data": {
      "text/plain": [
       "'[20746] 제2자유로 종점부(난지도길) 입체화공사 감독 권한대행 등 건설사업관리용역 면접평가 결과공개\\n2018-12-18 15:47:59 [주택]\\n제2자유로 종점부(난지도길) 입체화공사 감독 권한대행 등 건설사업관리용역 면접평가 결과공개'"
      ]
     },
     "execution_count": 33,
     "metadata": {},
     "output_type": "execute_result"
    }
   ],
   "source": [
    "items[0].text"
   ]
  },
  {
   "cell_type": "code",
   "execution_count": 34,
   "metadata": {},
   "outputs": [
    {
     "ename": "TypeError",
     "evalue": "dict expected at most 1 arguments, got 5",
     "output_type": "error",
     "traceback": [
      "\u001b[1;31m---------------------------------------------------------------------------\u001b[0m",
      "\u001b[1;31mTypeError\u001b[0m                                 Traceback (most recent call last)",
      "\u001b[1;32m<ipython-input-34-fc1cc0288648>\u001b[0m in \u001b[0;36m<module>\u001b[1;34m\u001b[0m\n\u001b[1;32m----> 1\u001b[1;33m \u001b[0mitem_info\u001b[0m\u001b[1;33m(\u001b[0m\u001b[0mitems\u001b[0m\u001b[1;33m)\u001b[0m\u001b[1;33m\u001b[0m\u001b[1;33m\u001b[0m\u001b[0m\n\u001b[0m",
      "\u001b[1;32m<ipython-input-31-8e02f0eaf0d8>\u001b[0m in \u001b[0;36mitem_info\u001b[1;34m(items)\u001b[0m\n\u001b[0;32m      8\u001b[0m         \u001b[0mnews_txt\u001b[0m \u001b[1;33m=\u001b[0m \u001b[0mitem\u001b[0m\u001b[1;33m.\u001b[0m\u001b[0mfind_element_by_class_name\u001b[0m\u001b[1;33m(\u001b[0m\u001b[1;34m'txt'\u001b[0m\u001b[1;33m)\u001b[0m\u001b[1;33m.\u001b[0m\u001b[0mtext\u001b[0m\u001b[1;33m.\u001b[0m\u001b[0mreplace\u001b[0m\u001b[1;33m(\u001b[0m\u001b[1;34m'\\n'\u001b[0m\u001b[1;33m,\u001b[0m\u001b[1;34m''\u001b[0m\u001b[1;33m)\u001b[0m\u001b[1;33m\u001b[0m\u001b[1;33m\u001b[0m\u001b[0m\n\u001b[0;32m      9\u001b[0m         \u001b[1;31m#news_dict[news_id]= dict([(name,eval(name)) for name in [\"news_subject\",\"news_link\",\"news_update_dt\",\"news_category\",\"news_txt\"]])\u001b[0m\u001b[1;33m\u001b[0m\u001b[1;33m\u001b[0m\u001b[1;33m\u001b[0m\u001b[0m\n\u001b[1;32m---> 10\u001b[1;33m         \u001b[0mnews_dict\u001b[0m\u001b[1;33m[\u001b[0m\u001b[0mnews_id\u001b[0m\u001b[1;33m]\u001b[0m\u001b[1;33m=\u001b[0m \u001b[0mdict\u001b[0m\u001b[1;33m(\u001b[0m\u001b[0mnews_subject\u001b[0m\u001b[1;33m,\u001b[0m\u001b[0mnews_link\u001b[0m\u001b[1;33m,\u001b[0m\u001b[0mnews_update_dt\u001b[0m\u001b[1;33m,\u001b[0m\u001b[0mnews_category\u001b[0m\u001b[1;33m,\u001b[0m\u001b[0mnews_txt\u001b[0m\u001b[1;33m)\u001b[0m\u001b[1;33m\u001b[0m\u001b[1;33m\u001b[0m\u001b[0m\n\u001b[0m",
      "\u001b[1;31mTypeError\u001b[0m: dict expected at most 1 arguments, got 5"
     ]
    }
   ],
   "source": [
    "item_info(items)"
   ]
  },
  {
   "cell_type": "code",
   "execution_count": 45,
   "metadata": {},
   "outputs": [
    {
     "data": {
      "text/plain": [
       "<selenium.webdriver.remote.webelement.WebElement (session=\"335027dc863955820170f3bb3fd7a41b\", element=\"0.5002591253664492-2\")>"
      ]
     },
     "execution_count": 45,
     "metadata": {},
     "output_type": "execute_result"
    }
   ],
   "source": [
    "items[1]"
   ]
  },
  {
   "cell_type": "code",
   "execution_count": null,
   "metadata": {},
   "outputs": [],
   "source": []
  },
  {
   "cell_type": "code",
   "execution_count": null,
   "metadata": {},
   "outputs": [],
   "source": []
  },
  {
   "cell_type": "code",
   "execution_count": null,
   "metadata": {},
   "outputs": [],
   "source": [
    "fnpage = 'javascript:fnPagingMove(' + str(10) + ');'\n",
    "ch_driver.execute_script(fnpage)"
   ]
  },
  {
   "cell_type": "code",
   "execution_count": null,
   "metadata": {},
   "outputs": [],
   "source": [
    "items[1].find_element_by_class_name('subject').text[7:].strip(' ')"
   ]
  },
  {
   "cell_type": "code",
   "execution_count": null,
   "metadata": {},
   "outputs": [],
   "source": [
    "items[1].find_element_by_tag_name('a').get_attribute('href')"
   ]
  },
  {
   "cell_type": "code",
   "execution_count": 47,
   "metadata": {},
   "outputs": [
    {
     "data": {
      "text/plain": [
       "datetime.datetime(2018, 11, 30, 18, 51, 59)"
      ]
     },
     "execution_count": 47,
     "metadata": {},
     "output_type": "execute_result"
    }
   ],
   "source": [
    "datetime.strptime(items[1].find_element_by_class_name('date').text[:19],'%Y-%m-%d %H:%M:%S')"
   ]
  },
  {
   "cell_type": "code",
   "execution_count": null,
   "metadata": {},
   "outputs": [],
   "source": [
    "items[1].find_element_by_class_name('txt').text"
   ]
  },
  {
   "cell_type": "code",
   "execution_count": null,
   "metadata": {},
   "outputs": [],
   "source": [
    "items[1].find_element_by_class_name('txt').text"
   ]
  },
  {
   "cell_type": "code",
   "execution_count": null,
   "metadata": {},
   "outputs": [],
   "source": []
  },
  {
   "cell_type": "code",
   "execution_count": null,
   "metadata": {},
   "outputs": [],
   "source": [
    "items[1].find_element_by_class_name('txt').text"
   ]
  },
  {
   "cell_type": "code",
   "execution_count": null,
   "metadata": {},
   "outputs": [],
   "source": [
    "ch_driver.find_element_by_xpath('//*[@id=\"content\"]/div[2]/div/div[1]/div[2]/a').get_attribute('href')"
   ]
  },
  {
   "cell_type": "code",
   "execution_count": null,
   "metadata": {},
   "outputs": [],
   "source": [
    "ch_driver.find_element_by_xpath('//*[@id=\"content\"]/div[2]/div/div[1]/div[2]/a').find_element_by_class_name('txt').text"
   ]
  },
  {
   "cell_type": "code",
   "execution_count": null,
   "metadata": {},
   "outputs": [],
   "source": [
    "ch_driver.find_elements_by_tag_name('a')[1\n",
    "                                        ].get_attribute('href')"
   ]
  },
  {
   "cell_type": "code",
   "execution_count": null,
   "metadata": {},
   "outputs": [],
   "source": [
    "html = ch_driver.page_source\n",
    "html[:2000]"
   ]
  },
  {
   "cell_type": "code",
   "execution_count": null,
   "metadata": {},
   "outputs": [],
   "source": [
    "soup = BeautifulSoup(html,'lxml')\n",
    "soup"
   ]
  },
  {
   "cell_type": "code",
   "execution_count": null,
   "metadata": {},
   "outputs": [],
   "source": [
    "trs = soup.find('div',attrs={'class':'item'})"
   ]
  },
  {
   "cell_type": "code",
   "execution_count": null,
   "metadata": {},
   "outputs": [],
   "source": [
    "soup.find_all('div',attrs={'class':'item'})[0].a['href']\n",
    "\n"
   ]
  },
  {
   "cell_type": "code",
   "execution_count": null,
   "metadata": {},
   "outputs": [],
   "source": [
    "soup.find_all('div',attrs={'class':'item'})[0].find('em',attrs={'class','subject'}).text"
   ]
  },
  {
   "cell_type": "code",
   "execution_count": null,
   "metadata": {},
   "outputs": [],
   "source": [
    "soup.find_all('div',attrs={'class':'item'})[0].find('em',attrs={'class','date'}).text.replace('\\t','').strip('\\n\\t').split('\\n')[0].strip(' ')\n",
    "#strip('\\n\\t').split('\\n')\n"
   ]
  },
  {
   "cell_type": "code",
   "execution_count": null,
   "metadata": {},
   "outputs": [],
   "source": [
    "soup.find_all('div',attrs={'class':'item'})[0].find('em',attrs={'class','date'}).text.replace('\\t','').strip('\\n\\t').split('\\n')[4].strip(' ')\n",
    "#strip('\\n\\t').split('\\n')\n"
   ]
  },
  {
   "cell_type": "code",
   "execution_count": null,
   "metadata": {},
   "outputs": [],
   "source": [
    "soup.find_all('div',attrs={'class':'item'})[0].find('em',attrs={'class','txt'}).text"
   ]
  },
  {
   "cell_type": "code",
   "execution_count": null,
   "metadata": {},
   "outputs": [],
   "source": [
    "soup.find_all('div',attrs={'class':'item'})[0].find('em',attrs={'class','subject'}).text\n",
    "soup.find_all('div',attrs={'class':'item'})[0].find('em',attrs={'class','subject'}).text\n",
    "soup.find_all('div',attrs={'class':'item'})[0].find('em',attrs={'class','txt'}).text"
   ]
  },
  {
   "cell_type": "code",
   "execution_count": null,
   "metadata": {},
   "outputs": [],
   "source": []
  },
  {
   "cell_type": "code",
   "execution_count": null,
   "metadata": {},
   "outputs": [],
   "source": [
    "news_url = items[0].get_attribute('')"
   ]
  },
  {
   "cell_type": "code",
   "execution_count": null,
   "metadata": {},
   "outputs": [],
   "source": [
    "news_url"
   ]
  },
  {
   "cell_type": "code",
   "execution_count": null,
   "metadata": {},
   "outputs": [],
   "source": []
  },
  {
   "cell_type": "code",
   "execution_count": null,
   "metadata": {},
   "outputs": [],
   "source": []
  }
 ],
 "metadata": {
  "kernelspec": {
   "display_name": "Python 3",
   "language": "python",
   "name": "python3"
  },
  "language_info": {
   "codemirror_mode": {
    "name": "ipython",
    "version": 3
   },
   "file_extension": ".py",
   "mimetype": "text/x-python",
   "name": "python",
   "nbconvert_exporter": "python",
   "pygments_lexer": "ipython3",
   "version": "3.7.1"
  }
 },
 "nbformat": 4,
 "nbformat_minor": 2
}
